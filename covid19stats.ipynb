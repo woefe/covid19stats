{
 "cells": [
  {
   "cell_type": "markdown",
   "metadata": {
    "pycharm": {
     "name": "#%% md\n"
    }
   },
   "source": [
    "# COVID 19 Stats -- Data by Robert Koch Institut, processed by [NPGEO](https://npgeo-corona-npgeo-de.hub.arcgis.com/datasets/dd4580c810204019a7b8eb3e0b329dd6_0)\n",
    "\n",
    "## Boilerplate"
   ]
  },
  {
   "cell_type": "code",
   "execution_count": 1,
   "metadata": {},
   "outputs": [],
   "source": [
    "import pandas as pd\n",
    "import qgrid\n",
    "\n",
    "%matplotlib widget\n",
    "import matplotlib.pyplot as plt\n",
    "\n",
    "\n",
    "def complex_sum(df: pd.DataFrame) -> pd.Series:\n",
    "    \"\"\"Calculate the sum of cases, deaths, recovered according to algorithm at\n",
    "    https://www.arcgis.com/home/item.html?id=f10774f1c63e40168479a1feb6c7ca74\n",
    "    \"\"\"\n",
    "    def h_sum(col: str, refcol: str) -> int:\n",
    "        sum = 0\n",
    "        for idx, row in df.iterrows():\n",
    "            sum += row[col] if row[refcol] in [0,1] else 0\n",
    "        return sum\n",
    "    return pd.Series({\n",
    "            \"cases\": h_sum(\"AnzahlFall\", \"NeuerFall\"),\n",
    "            \"deaths\": h_sum(\"AnzahlTodesfall\", \"NeuerTodesfall\"),\n",
    "            \"recovered\": h_sum(\"AnzahlGenesen\", \"NeuGenesen\")\n",
    "            })"
   ]
  },
  {
   "cell_type": "markdown",
   "metadata": {
    "pycharm": {
     "name": "#%% md\n"
    }
   },
   "source": [
    "## Load main data source\n",
    "\n",
    "Data License: Robert Koch-Institut (RKI), [dl-de/by-2-0](https://www.govdata.de/dl-de/by-2-0).\n",
    "Provided by [NPGEO](https://npgeo-corona-npgeo-de.hub.arcgis.com/datasets/dd4580c810204019a7b8eb3e0b329dd6_0)."
   ]
  },
  {
   "cell_type": "code",
   "execution_count": 2,
   "metadata": {
    "pycharm": {
     "name": "#%%\n"
    }
   },
   "outputs": [],
   "source": [
    "rki_cases = pd.read_csv(\"data/RKI_COVID19.csv\")\n",
    "rki_cases[\"Datenstand\"] = pd.to_datetime(rki_cases[\"Datenstand\"], format=\"%d.%m.%Y, %H:%M Uhr\")\n",
    "rki_cases[\"Meldedatum\"] = pd.to_datetime(rki_cases[\"Meldedatum\"], format=\"%Y/%m/%d %H:%M:%S\")\n",
    "rki_cases[\"Refdatum\"] = pd.to_datetime(rki_cases[\"Refdatum\"], format=\"%Y/%m/%d %H:%M:%S\")"
   ]
  },
  {
   "cell_type": "markdown",
   "metadata": {
    "pycharm": {
     "name": "#%% md\n"
    }
   },
   "source": [
    "## Load county data\n",
    "Used to get number of residents and size in km² of every county.\n",
    "Dataset is taken from [NPGEO](https://npgeo-corona-npgeo-de.hub.arcgis.com/datasets/917fc37a709542548cc3be077a786c17_0)"
   ]
  },
  {
   "cell_type": "code",
   "execution_count": 3,
   "metadata": {
    "pycharm": {
     "name": "#%%\n"
    }
   },
   "outputs": [],
   "source": [
    "rki_lkr = pd.read_csv(\"data/RKI_Corona_Landkreise.csv\")"
   ]
  },
  {
   "cell_type": "markdown",
   "metadata": {
    "pycharm": {
     "name": "#%% md\n"
    }
   },
   "source": [
    "## Load state data\n",
    "The destatis dataset is used to get number of residents and size in km² of every german state.\n",
    "Dataset is extracted from [destatis](https://www.destatis.de/DE/Themen/Laender-Regionen/Regionales/Gemeindeverzeichnis/Administrativ/02-bundeslaender.xlsx?__blob=publicationFile)."
   ]
  },
  {
   "cell_type": "code",
   "execution_count": 4,
   "metadata": {
    "pycharm": {
     "name": "#%%\n"
    }
   },
   "outputs": [],
   "source": [
    "destatis = pd.read_csv(\"data/destatis_bundeslaender.csv\")"
   ]
  },
  {
   "cell_type": "markdown",
   "metadata": {
    "pycharm": {
     "name": "#%% md\n"
    }
   },
   "source": [
    "## Overview States"
   ]
  },
  {
   "cell_type": "code",
   "execution_count": 5,
   "metadata": {
    "pycharm": {
     "name": "#%%\n"
    },
    "scrolled": false
   },
   "outputs": [
    {
     "data": {
      "application/vnd.jupyter.widget-view+json": {
       "model_id": "8e374a946acc4f91b19731e20fa3bf42",
       "version_major": 2,
       "version_minor": 0
      },
      "text/plain": [
       "QgridWidget(grid_options={'fullWidthRows': True, 'syncColumnCellResize': True, 'forceFitColumns': True, 'defau…"
      ]
     },
     "metadata": {},
     "output_type": "display_data"
    }
   ],
   "source": [
    "cases = rki_cases.groupby(\"Bundesland\").apply(complex_sum)\n",
    "states = pd.merge(cases, destatis[[\"Bundesland\", \"Flaeche\", \"Einwohner\"]], on=\"Bundesland\")\n",
    "states[\"cases/km²\"] = states[\"cases\"]/states[\"Flaeche\"]\n",
    "states[\"cases/inhabitants\"] = states[\"cases\"]/states[\"Einwohner\"]\n",
    "states[\"deaths/km²\"] = states[\"deaths\"]/states[\"Flaeche\"]\n",
    "states[\"deaths/inhabitants\"] = states[\"deaths\"]/states[\"Einwohner\"]\n",
    "states.drop(columns=[\"Flaeche\", \"Einwohner\"], inplace=True)\n",
    "qgrid.show_grid(states, show_toolbar=True)"
   ]
  },
  {
   "cell_type": "markdown",
   "metadata": {
    "pycharm": {
     "name": "#%% md\n"
    }
   },
   "source": [
    "## Overview Counties"
   ]
  },
  {
   "cell_type": "code",
   "execution_count": 6,
   "metadata": {
    "pycharm": {
     "name": "#%%\n"
    }
   },
   "outputs": [
    {
     "data": {
      "application/vnd.jupyter.widget-view+json": {
       "model_id": "6bfe969fce47484cace2b64d864d0eb9",
       "version_major": 2,
       "version_minor": 0
      },
      "text/plain": [
       "QgridWidget(grid_options={'fullWidthRows': True, 'syncColumnCellResize': True, 'forceFitColumns': True, 'defau…"
      ]
     },
     "metadata": {},
     "output_type": "display_data"
    }
   ],
   "source": [
    "lkr = rki_lkr[[\"county\", \"EWZ\", \"KFL\"]]\n",
    "cum_lkr = rki_cases.groupby(\"Landkreis\").apply(complex_sum)\n",
    "counties = pd.merge(lkr, cum_lkr, right_on=\"Landkreis\", left_on=\"county\")\n",
    "counties[\"cases/km²\"] = counties[\"cases\"]/counties[\"KFL\"]\n",
    "counties[\"cases/inhabitants\"] = counties[\"cases\"]/counties[\"EWZ\"]\n",
    "counties[\"deaths/km²\"] = counties[\"deaths\"]/counties[\"KFL\"]\n",
    "counties[\"deaths/inhabitants\"] = counties[\"deaths\"]/counties[\"EWZ\"]\n",
    "counties.drop([\"EWZ\", \"KFL\"], axis=\"columns\", inplace=True)\n",
    "qgrid.show_grid(counties, show_toolbar=True)"
   ]
  },
  {
   "cell_type": "markdown",
   "metadata": {
    "pycharm": {
     "name": "#%% md\n"
    }
   },
   "source": [
    "## Cases, recovered, deaths (all of Germany)"
   ]
  },
  {
   "cell_type": "code",
   "execution_count": 7,
   "metadata": {
    "pycharm": {
     "name": "#%%\n"
    }
   },
   "outputs": [
    {
     "data": {
      "text/html": [
       "<div>\n",
       "<style scoped>\n",
       "    .dataframe tbody tr th:only-of-type {\n",
       "        vertical-align: middle;\n",
       "    }\n",
       "\n",
       "    .dataframe tbody tr th {\n",
       "        vertical-align: top;\n",
       "    }\n",
       "\n",
       "    .dataframe thead th {\n",
       "        text-align: right;\n",
       "    }\n",
       "</style>\n",
       "<table border=\"1\" class=\"dataframe\">\n",
       "  <thead>\n",
       "    <tr style=\"text-align: right;\">\n",
       "      <th></th>\n",
       "      <th>cases</th>\n",
       "      <th>deaths</th>\n",
       "      <th>recovered</th>\n",
       "      <th>cum_cases</th>\n",
       "      <th>cum_deaths</th>\n",
       "      <th>cum_recovered</th>\n",
       "    </tr>\n",
       "    <tr>\n",
       "      <th>Meldedatum</th>\n",
       "      <th></th>\n",
       "      <th></th>\n",
       "      <th></th>\n",
       "      <th></th>\n",
       "      <th></th>\n",
       "      <th></th>\n",
       "    </tr>\n",
       "  </thead>\n",
       "  <tbody>\n",
       "    <tr>\n",
       "      <th>2020-04-27</th>\n",
       "      <td>1124</td>\n",
       "      <td>32</td>\n",
       "      <td>122</td>\n",
       "      <td>157252</td>\n",
       "      <td>6544</td>\n",
       "      <td>128782</td>\n",
       "    </tr>\n",
       "    <tr>\n",
       "      <th>2020-04-28</th>\n",
       "      <td>1414</td>\n",
       "      <td>20</td>\n",
       "      <td>82</td>\n",
       "      <td>158666</td>\n",
       "      <td>6564</td>\n",
       "      <td>128864</td>\n",
       "    </tr>\n",
       "    <tr>\n",
       "      <th>2020-04-29</th>\n",
       "      <td>1384</td>\n",
       "      <td>2</td>\n",
       "      <td>75</td>\n",
       "      <td>160050</td>\n",
       "      <td>6566</td>\n",
       "      <td>128939</td>\n",
       "    </tr>\n",
       "    <tr>\n",
       "      <th>2020-04-30</th>\n",
       "      <td>1260</td>\n",
       "      <td>8</td>\n",
       "      <td>58</td>\n",
       "      <td>161310</td>\n",
       "      <td>6574</td>\n",
       "      <td>128997</td>\n",
       "    </tr>\n",
       "    <tr>\n",
       "      <th>2020-05-01</th>\n",
       "      <td>393</td>\n",
       "      <td>1</td>\n",
       "      <td>6</td>\n",
       "      <td>161703</td>\n",
       "      <td>6575</td>\n",
       "      <td>129003</td>\n",
       "    </tr>\n",
       "  </tbody>\n",
       "</table>\n",
       "</div>"
      ],
      "text/plain": [
       "            cases  deaths  recovered  cum_cases  cum_deaths  cum_recovered\n",
       "Meldedatum                                                                \n",
       "2020-04-27   1124      32        122     157252        6544         128782\n",
       "2020-04-28   1414      20         82     158666        6564         128864\n",
       "2020-04-29   1384       2         75     160050        6566         128939\n",
       "2020-04-30   1260       8         58     161310        6574         128997\n",
       "2020-05-01    393       1          6     161703        6575         129003"
      ]
     },
     "execution_count": 7,
     "metadata": {},
     "output_type": "execute_result"
    }
   ],
   "source": [
    "#datecol = \"Refdatum\"\n",
    "datecol = \"Meldedatum\"\n",
    "\n",
    "#per_day = rki_cases[rki_cases[\"Bundesland\"] == \"Bayern\"].copy()\n",
    "per_day = rki_cases.copy()\n",
    "\n",
    "per_day[datecol] = rki_cases[datecol].dt.floor(\"D\")\n",
    "per_day = per_day.groupby(datecol).apply(complex_sum)\n",
    "per_day.sort_values(datecol, inplace=True)\n",
    "per_day[\"cum_cases\"] = per_day[\"cases\"].cumsum()\n",
    "per_day[\"cum_deaths\"] = per_day[\"deaths\"].cumsum()\n",
    "per_day[\"cum_recovered\"] = per_day[\"recovered\"].cumsum()\n",
    "per_day.tail(5)"
   ]
  },
  {
   "cell_type": "code",
   "execution_count": 8,
   "metadata": {
    "pycharm": {
     "name": "#%%\n"
    }
   },
   "outputs": [
    {
     "data": {
      "application/vnd.jupyter.widget-view+json": {
       "model_id": "7ebb52e21819461f90fd4a0b098461b4",
       "version_major": 2,
       "version_minor": 0
      },
      "text/plain": [
       "Canvas(toolbar=Toolbar(toolitems=[('Home', 'Reset original view', 'home', 'home'), ('Back', 'Back to previous …"
      ]
     },
     "metadata": {},
     "output_type": "display_data"
    }
   ],
   "source": [
    "fig, ax = plt.subplots(figsize=(10,8))\n",
    "import matplotlib.dates as mdates\n",
    "\n",
    "plt.plot(per_day.index, per_day.cum_cases, label=\"Cases\")\n",
    "plt.plot(per_day.index, per_day.cum_deaths, label=\"Deaths\")\n",
    "plt.plot(per_day.index, per_day.cum_recovered, label=\"Recovered\")\n",
    "ax.get_xaxis().set_major_locator(mdates.DayLocator(interval=5))\n",
    "ax.get_xaxis().set_minor_locator(mdates.DayLocator(interval=1))\n",
    "\n",
    "fig.autofmt_xdate()\n",
    "plt.legend()\n",
    "plt.grid()\n",
    "plt.show()\n"
   ]
  }
 ],
 "metadata": {
  "kernelspec": {
   "display_name": "Python 3",
   "language": "python",
   "name": "python3"
  },
  "language_info": {
   "codemirror_mode": {
    "name": "ipython",
    "version": 3
   },
   "file_extension": ".py",
   "mimetype": "text/x-python",
   "name": "python",
   "nbconvert_exporter": "python",
   "pygments_lexer": "ipython3",
   "version": "3.8.2"
  }
 },
 "nbformat": 4,
 "nbformat_minor": 4
}
