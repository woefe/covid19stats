{
 "cells": [
  {
   "cell_type": "markdown",
   "metadata": {
    "pycharm": {
     "name": "#%% md\n"
    }
   },
   "source": [
    "# COVID 19 Stats -- Data by Robert Koch Institut, processed by [NPGEO](https://npgeo-corona-npgeo-de.hub.arcgis.com/datasets/dd4580c810204019a7b8eb3e0b329dd6_0)\n",
    "\n",
    "## Boilerplate"
   ]
  },
  {
   "cell_type": "code",
   "execution_count": 1,
   "metadata": {},
   "outputs": [],
   "source": [
    "import pandas as pd\n",
    "import qgrid\n",
    "\n",
    "%matplotlib widget\n",
    "import matplotlib.pyplot as plt\n",
    "import matplotlib.dates as mdates\n",
    "\n",
    "\n",
    "def prepare(col: str, refcol: str, df: pd.DataFrame) -> pd.Series:\n",
    "    \"\"\"Generate a series that can be use with the standar sum() function\n",
    "    \n",
    "    The documentation of the dataset specifies that \"AnzahlFall\" and other\n",
    "    columns should not be simply summed up.\n",
    "    \"\"\"\n",
    "    return pd.Series((row[col] if row[refcol] in [0,1] else 0) for _, row in df.iterrows())"
   ]
  },
  {
   "cell_type": "markdown",
   "metadata": {
    "pycharm": {
     "name": "#%% md\n"
    }
   },
   "source": [
    "## Load main data source\n",
    "\n",
    "Data License: Robert Koch-Institut (RKI), [dl-de/by-2-0](https://www.govdata.de/dl-de/by-2-0).\n",
    "Provided by [NPGEO](https://npgeo-corona-npgeo-de.hub.arcgis.com/datasets/dd4580c810204019a7b8eb3e0b329dd6_0)."
   ]
  },
  {
   "cell_type": "code",
   "execution_count": 2,
   "metadata": {
    "pycharm": {
     "name": "#%%\n"
    }
   },
   "outputs": [],
   "source": [
    "rki_cases = pd.read_csv(\"data/silo/2020-05-17.csv\")\n",
    "rki_cases[\"Datenstand\"] = pd.to_datetime(rki_cases[\"Datenstand\"], format=\"%d.%m.%Y, %H:%M Uhr\")\n",
    "rki_cases[\"Meldedatum\"] = pd.to_datetime(rki_cases[\"Meldedatum\"], format=\"%Y/%m/%d %H:%M:%S\")\n",
    "rki_cases[\"Refdatum\"] = pd.to_datetime(rki_cases[\"Refdatum\"], format=\"%Y/%m/%d %H:%M:%S\")\n",
    "rki_cases[\"cases\"] = prepare(\"AnzahlFall\", \"NeuerFall\", rki_cases)\n",
    "rki_cases[\"deaths\"] = prepare(\"AnzahlTodesfall\", \"NeuerTodesfall\", rki_cases)\n",
    "rki_cases[\"recovered\"] = prepare(\"AnzahlGenesen\", \"NeuGenesen\", rki_cases)"
   ]
  },
  {
   "cell_type": "markdown",
   "metadata": {
    "pycharm": {
     "name": "#%% md\n"
    }
   },
   "source": [
    "## Load county data\n",
    "Used to get number of residents and size in km² of every county.\n",
    "Dataset is taken from [NPGEO](https://npgeo-corona-npgeo-de.hub.arcgis.com/datasets/917fc37a709542548cc3be077a786c17_0)"
   ]
  },
  {
   "cell_type": "code",
   "execution_count": 3,
   "metadata": {
    "pycharm": {
     "name": "#%%\n"
    }
   },
   "outputs": [],
   "source": [
    "rki_lkr = pd.read_csv(\"data/RKI_Corona_Landkreise.csv\")"
   ]
  },
  {
   "cell_type": "markdown",
   "metadata": {
    "pycharm": {
     "name": "#%% md\n"
    }
   },
   "source": [
    "## Load state data\n",
    "The destatis dataset is used to get number of residents and size in km² of every german state.\n",
    "Dataset is extracted from [destatis](https://www.destatis.de/DE/Themen/Laender-Regionen/Regionales/Gemeindeverzeichnis/Administrativ/02-bundeslaender.xlsx?__blob=publicationFile)."
   ]
  },
  {
   "cell_type": "code",
   "execution_count": 4,
   "metadata": {
    "pycharm": {
     "name": "#%%\n"
    }
   },
   "outputs": [],
   "source": [
    "destatis = pd.read_csv(\"data/destatis_bundeslaender.csv\")"
   ]
  },
  {
   "cell_type": "markdown",
   "metadata": {
    "pycharm": {
     "name": "#%% md\n"
    }
   },
   "source": [
    "## Overview States"
   ]
  },
  {
   "cell_type": "code",
   "execution_count": 5,
   "metadata": {
    "pycharm": {
     "name": "#%%\n"
    }
   },
   "outputs": [
    {
     "data": {
      "application/vnd.jupyter.widget-view+json": {
       "model_id": "b16b91f3cc544812b79c54c8dab352eb",
       "version_major": 2,
       "version_minor": 0
      },
      "text/plain": [
       "QgridWidget(grid_options={'fullWidthRows': True, 'syncColumnCellResize': True, 'forceFitColumns': True, 'defau…"
      ]
     },
     "metadata": {},
     "output_type": "display_data"
    }
   ],
   "source": [
    "cases = rki_cases.groupby(\"Bundesland\").sum()[[\"cases\", \"deaths\", \"recovered\"]]\n",
    "states = pd.merge(cases, destatis[[\"Bundesland\", \"Flaeche\", \"Einwohner\"]], on=\"Bundesland\")\n",
    "states[\"cases/km²\"] = states[\"cases\"]/states[\"Flaeche\"]\n",
    "states[\"cases/inhabitants\"] = states[\"cases\"]/states[\"Einwohner\"]\n",
    "states[\"deaths/km²\"] = states[\"deaths\"]/states[\"Flaeche\"]\n",
    "states[\"deaths/inhabitants\"] = states[\"deaths\"]/states[\"Einwohner\"]\n",
    "states.drop(columns=[\"Flaeche\", \"Einwohner\"], inplace=True)\n",
    "qgrid.show_grid(states, show_toolbar=True)"
   ]
  },
  {
   "cell_type": "markdown",
   "metadata": {
    "pycharm": {
     "name": "#%% md\n"
    }
   },
   "source": [
    "## Overview Counties"
   ]
  },
  {
   "cell_type": "code",
   "execution_count": 6,
   "metadata": {
    "pycharm": {
     "name": "#%%\n"
    }
   },
   "outputs": [
    {
     "data": {
      "application/vnd.jupyter.widget-view+json": {
       "model_id": "368b892c8cc4492a9c01a91b466dc2e6",
       "version_major": 2,
       "version_minor": 0
      },
      "text/plain": [
       "QgridWidget(grid_options={'fullWidthRows': True, 'syncColumnCellResize': True, 'forceFitColumns': True, 'defau…"
      ]
     },
     "metadata": {},
     "output_type": "display_data"
    }
   ],
   "source": [
    "lkr = rki_lkr[[\"county\", \"EWZ\", \"KFL\"]]\n",
    "sum_lkr = rki_cases.groupby(\"Landkreis\").sum()[[\"cases\", \"deaths\", \"recovered\"]]\n",
    "counties = pd.merge(lkr, sum_lkr, right_on=\"Landkreis\", left_on=\"county\")\n",
    "counties[\"cases/km²\"] = counties[\"cases\"]/counties[\"KFL\"]\n",
    "counties[\"cases/inhabitants\"] = counties[\"cases\"]/counties[\"EWZ\"]\n",
    "counties[\"deaths/km²\"] = counties[\"deaths\"]/counties[\"KFL\"]\n",
    "counties[\"deaths/inhabitants\"] = counties[\"deaths\"]/counties[\"EWZ\"]\n",
    "counties.drop([\"EWZ\", \"KFL\"], axis=\"columns\", inplace=True)\n",
    "qgrid.show_grid(counties, show_toolbar=True)"
   ]
  },
  {
   "cell_type": "markdown",
   "metadata": {
    "pycharm": {
     "name": "#%% md\n"
    }
   },
   "source": [
    "## Cases, recovered, deaths (all of Germany)"
   ]
  },
  {
   "cell_type": "code",
   "execution_count": 7,
   "metadata": {
    "pycharm": {
     "name": "#%%\n"
    }
   },
   "outputs": [
    {
     "data": {
      "text/html": [
       "<div>\n",
       "<style scoped>\n",
       "    .dataframe tbody tr th:only-of-type {\n",
       "        vertical-align: middle;\n",
       "    }\n",
       "\n",
       "    .dataframe tbody tr th {\n",
       "        vertical-align: top;\n",
       "    }\n",
       "\n",
       "    .dataframe thead th {\n",
       "        text-align: right;\n",
       "    }\n",
       "</style>\n",
       "<table border=\"1\" class=\"dataframe\">\n",
       "  <thead>\n",
       "    <tr style=\"text-align: right;\">\n",
       "      <th></th>\n",
       "      <th>cases</th>\n",
       "      <th>deaths</th>\n",
       "      <th>recovered</th>\n",
       "      <th>cum_cases</th>\n",
       "      <th>cum_deaths</th>\n",
       "      <th>cum_recovered</th>\n",
       "    </tr>\n",
       "    <tr>\n",
       "      <th>Meldedatum</th>\n",
       "      <th></th>\n",
       "      <th></th>\n",
       "      <th></th>\n",
       "      <th></th>\n",
       "      <th></th>\n",
       "      <th></th>\n",
       "    </tr>\n",
       "  </thead>\n",
       "  <tbody>\n",
       "    <tr>\n",
       "      <th>2020-05-12</th>\n",
       "      <td>837</td>\n",
       "      <td>7</td>\n",
       "      <td>75</td>\n",
       "      <td>171885</td>\n",
       "      <td>7897</td>\n",
       "      <td>153358</td>\n",
       "    </tr>\n",
       "    <tr>\n",
       "      <th>2020-05-13</th>\n",
       "      <td>885</td>\n",
       "      <td>9</td>\n",
       "      <td>33</td>\n",
       "      <td>172770</td>\n",
       "      <td>7906</td>\n",
       "      <td>153391</td>\n",
       "    </tr>\n",
       "    <tr>\n",
       "      <th>2020-05-14</th>\n",
       "      <td>786</td>\n",
       "      <td>3</td>\n",
       "      <td>34</td>\n",
       "      <td>173556</td>\n",
       "      <td>7909</td>\n",
       "      <td>153425</td>\n",
       "    </tr>\n",
       "    <tr>\n",
       "      <th>2020-05-15</th>\n",
       "      <td>556</td>\n",
       "      <td>5</td>\n",
       "      <td>7</td>\n",
       "      <td>174112</td>\n",
       "      <td>7914</td>\n",
       "      <td>153432</td>\n",
       "    </tr>\n",
       "    <tr>\n",
       "      <th>2020-05-16</th>\n",
       "      <td>243</td>\n",
       "      <td>0</td>\n",
       "      <td>4</td>\n",
       "      <td>174355</td>\n",
       "      <td>7914</td>\n",
       "      <td>153436</td>\n",
       "    </tr>\n",
       "  </tbody>\n",
       "</table>\n",
       "</div>"
      ],
      "text/plain": [
       "            cases  deaths  recovered  cum_cases  cum_deaths  cum_recovered\n",
       "Meldedatum                                                                \n",
       "2020-05-12    837       7         75     171885        7897         153358\n",
       "2020-05-13    885       9         33     172770        7906         153391\n",
       "2020-05-14    786       3         34     173556        7909         153425\n",
       "2020-05-15    556       5          7     174112        7914         153432\n",
       "2020-05-16    243       0          4     174355        7914         153436"
      ]
     },
     "execution_count": 7,
     "metadata": {},
     "output_type": "execute_result"
    }
   ],
   "source": [
    "#datecol = \"Refdatum\"\n",
    "datecol = \"Meldedatum\"\n",
    "\n",
    "#per_day = rki_cases[rki_cases[\"Bundesland\"] == \"Bayern\"].copy()\n",
    "per_day = rki_cases.copy()\n",
    "\n",
    "per_day[datecol] = rki_cases[datecol].dt.floor(\"D\")\n",
    "per_day = per_day.groupby(datecol).sum()[[\"cases\", \"deaths\", \"recovered\"]]\n",
    "per_day.sort_values(datecol, inplace=True)\n",
    "per_day[\"cum_cases\"] = per_day[\"cases\"].cumsum()\n",
    "per_day[\"cum_deaths\"] = per_day[\"deaths\"].cumsum()\n",
    "per_day[\"cum_recovered\"] = per_day[\"recovered\"].cumsum()\n",
    "per_day.tail(5)"
   ]
  },
  {
   "cell_type": "code",
   "execution_count": 8,
   "metadata": {
    "pycharm": {
     "name": "#%%\n"
    },
    "scrolled": false
   },
   "outputs": [
    {
     "data": {
      "application/vnd.jupyter.widget-view+json": {
       "model_id": "07cb0370644e4dea8bb925e824b3fdd8",
       "version_major": 2,
       "version_minor": 0
      },
      "text/plain": [
       "Canvas(toolbar=Toolbar(toolitems=[('Home', 'Reset original view', 'home', 'home'), ('Back', 'Back to previous …"
      ]
     },
     "metadata": {},
     "output_type": "display_data"
    }
   ],
   "source": [
    "fig, ax = plt.subplots(figsize=(10,8))\n",
    "import matplotlib.dates as mdates\n",
    "\n",
    "plt.plot(per_day.index, per_day.cum_cases, label=\"Cases\")\n",
    "plt.plot(per_day.index, per_day.cum_deaths, label=\"Deaths\")\n",
    "\n",
    "# The recovered cases should \"lag behind\" by approx., but it doesn't.\n",
    "# That's because the dataset does not have a date indicating when a patient has recovered.\n",
    "# Instead the original record seems to be updated.\n",
    "# Hence, the I won't plot the recovered cases.\n",
    "#plt.plot(per_day.index, per_day.cum_recovered, label=\"Recovered\")\n",
    "ax.get_xaxis().set_major_locator(mdates.DayLocator(interval=5))\n",
    "ax.get_xaxis().set_minor_locator(mdates.DayLocator(interval=1))\n",
    "\n",
    "fig.autofmt_xdate()\n",
    "plt.legend()\n",
    "plt.title(\"Cumulative cases (all of Germany)\")\n",
    "plt.grid()\n",
    "plt.show()\n"
   ]
  },
  {
   "cell_type": "code",
   "execution_count": 9,
   "metadata": {
    "scrolled": false
   },
   "outputs": [
    {
     "data": {
      "application/vnd.jupyter.widget-view+json": {
       "model_id": "f8627857e51243aca2028bb068ed2bb1",
       "version_major": 2,
       "version_minor": 0
      },
      "text/plain": [
       "Canvas(toolbar=Toolbar(toolitems=[('Home', 'Reset original view', 'home', 'home'), ('Back', 'Back to previous …"
      ]
     },
     "metadata": {},
     "output_type": "display_data"
    }
   ],
   "source": [
    "fig, ax = plt.subplots(figsize=(10,8))\n",
    "\n",
    "plt.bar(per_day.index, per_day.cases, label=\"Cases\")\n",
    "#plt.plot(per_day.index, per_day.cum_deaths, label=\"Deaths\")\n",
    "#plt.plot(per_day.index, per_day.cum_recovered, label=\"Recovered\")\n",
    "ax.get_xaxis().set_major_locator(mdates.DayLocator(interval=5))\n",
    "ax.get_xaxis().set_minor_locator(mdates.DayLocator(interval=1))\n",
    "\n",
    "fig.autofmt_xdate()\n",
    "plt.legend()\n",
    "plt.title(\"Registered cases per day (all of Germany)\")\n",
    "plt.grid()\n",
    "plt.show()"
   ]
  },
  {
   "cell_type": "markdown",
   "metadata": {},
   "source": [
    "## Registerd cases per state"
   ]
  },
  {
   "cell_type": "code",
   "execution_count": 10,
   "metadata": {},
   "outputs": [
    {
     "data": {
      "application/vnd.jupyter.widget-view+json": {
       "model_id": "eaabcd2b257149459cd7eec266045ada",
       "version_major": 2,
       "version_minor": 0
      },
      "text/plain": [
       "Canvas(toolbar=Toolbar(toolitems=[('Home', 'Reset original view', 'home', 'home'), ('Back', 'Back to previous …"
      ]
     },
     "metadata": {},
     "output_type": "display_data"
    }
   ],
   "source": [
    "states = list(rki_cases.drop_duplicates(\"Bundesland\").Bundesland)\n",
    "\n",
    "#datecol = \"Refdatum\"\n",
    "datecol = \"Meldedatum\"\n",
    "\n",
    "def plot_data(state):\n",
    "    df = rki_cases[rki_cases[\"Bundesland\"] == state].copy()\n",
    "\n",
    "    df[datecol] = rki_cases[datecol].dt.floor(\"D\")\n",
    "    df = df.groupby(datecol).sum()\n",
    "    df.sort_values(datecol, inplace=True)\n",
    "    return df\n",
    "\n",
    "fig, ax = plt.subplots(figsize=(10,8))\n",
    "\n",
    "for state in states:\n",
    "    df = plot_data(state)\n",
    "    plt.plot(df.index, df.cases, label=state)\n",
    "\n",
    "# The recovered cases should \"lag behind\" by approx., but it doesn't.\n",
    "# That's because the dataset does not have a date indicating when a patient has recovered.\n",
    "# Instead the original record seems to be updated.\n",
    "# Hence, the I won't plot the recovered cases.\n",
    "#plt.plot(per_day.index, per_day.cum_recovered, label=\"Recovered\")\n",
    "ax.get_xaxis().set_major_locator(mdates.DayLocator(interval=5))\n",
    "ax.get_xaxis().set_minor_locator(mdates.DayLocator(interval=1))\n",
    "\n",
    "fig.autofmt_xdate()\n",
    "plt.legend()\n",
    "plt.title(\"Registered cases\")\n",
    "plt.grid()\n",
    "plt.show()"
   ]
  },
  {
   "cell_type": "markdown",
   "metadata": {},
   "source": [
    "## Grouped by age (all of Germany, entire dataset)"
   ]
  },
  {
   "cell_type": "code",
   "execution_count": 11,
   "metadata": {},
   "outputs": [
    {
     "data": {
      "text/html": [
       "<div>\n",
       "<style scoped>\n",
       "    .dataframe tbody tr th:only-of-type {\n",
       "        vertical-align: middle;\n",
       "    }\n",
       "\n",
       "    .dataframe tbody tr th {\n",
       "        vertical-align: top;\n",
       "    }\n",
       "\n",
       "    .dataframe thead th {\n",
       "        text-align: right;\n",
       "    }\n",
       "</style>\n",
       "<table border=\"1\" class=\"dataframe\">\n",
       "  <thead>\n",
       "    <tr style=\"text-align: right;\">\n",
       "      <th></th>\n",
       "      <th>cases</th>\n",
       "      <th>deaths</th>\n",
       "      <th>recovered</th>\n",
       "      <th>sick</th>\n",
       "      <th>deathrate %</th>\n",
       "    </tr>\n",
       "    <tr>\n",
       "      <th>Altersgruppe</th>\n",
       "      <th></th>\n",
       "      <th></th>\n",
       "      <th></th>\n",
       "      <th></th>\n",
       "      <th></th>\n",
       "    </tr>\n",
       "  </thead>\n",
       "  <tbody>\n",
       "    <tr>\n",
       "      <th>A00-A04</th>\n",
       "      <td>1663</td>\n",
       "      <td>1</td>\n",
       "      <td>1401</td>\n",
       "      <td>261</td>\n",
       "      <td>0.060132</td>\n",
       "    </tr>\n",
       "    <tr>\n",
       "      <th>A05-A14</th>\n",
       "      <td>3894</td>\n",
       "      <td>0</td>\n",
       "      <td>3488</td>\n",
       "      <td>406</td>\n",
       "      <td>0.000000</td>\n",
       "    </tr>\n",
       "    <tr>\n",
       "      <th>A15-A34</th>\n",
       "      <td>43470</td>\n",
       "      <td>17</td>\n",
       "      <td>40030</td>\n",
       "      <td>3423</td>\n",
       "      <td>0.039107</td>\n",
       "    </tr>\n",
       "    <tr>\n",
       "      <th>A35-A59</th>\n",
       "      <td>72632</td>\n",
       "      <td>339</td>\n",
       "      <td>67840</td>\n",
       "      <td>4453</td>\n",
       "      <td>0.466736</td>\n",
       "    </tr>\n",
       "    <tr>\n",
       "      <th>A60-A79</th>\n",
       "      <td>32834</td>\n",
       "      <td>2504</td>\n",
       "      <td>27938</td>\n",
       "      <td>2392</td>\n",
       "      <td>7.626241</td>\n",
       "    </tr>\n",
       "    <tr>\n",
       "      <th>A80+</th>\n",
       "      <td>19734</td>\n",
       "      <td>5053</td>\n",
       "      <td>12643</td>\n",
       "      <td>2038</td>\n",
       "      <td>25.605554</td>\n",
       "    </tr>\n",
       "    <tr>\n",
       "      <th>unbekannt</th>\n",
       "      <td>128</td>\n",
       "      <td>0</td>\n",
       "      <td>96</td>\n",
       "      <td>32</td>\n",
       "      <td>0.000000</td>\n",
       "    </tr>\n",
       "  </tbody>\n",
       "</table>\n",
       "</div>"
      ],
      "text/plain": [
       "              cases  deaths  recovered  sick  deathrate %\n",
       "Altersgruppe                                             \n",
       "A00-A04        1663       1       1401   261     0.060132\n",
       "A05-A14        3894       0       3488   406     0.000000\n",
       "A15-A34       43470      17      40030  3423     0.039107\n",
       "A35-A59       72632     339      67840  4453     0.466736\n",
       "A60-A79       32834    2504      27938  2392     7.626241\n",
       "A80+          19734    5053      12643  2038    25.605554\n",
       "unbekannt       128       0         96    32     0.000000"
      ]
     },
     "execution_count": 11,
     "metadata": {},
     "output_type": "execute_result"
    }
   ],
   "source": [
    "by_age = rki_cases.groupby(\"Altersgruppe\").sum()[[\"cases\", \"deaths\", \"recovered\"]]\n",
    "by_age[\"sick\"] = by_age.cases - by_age.deaths - by_age.recovered\n",
    "by_age[\"deathrate %\"] = (by_age.deaths / by_age.cases) * 100\n",
    "by_age"
   ]
  },
  {
   "cell_type": "code",
   "execution_count": 12,
   "metadata": {},
   "outputs": [
    {
     "name": "stdout",
     "output_type": "stream",
     "text": [
      "overall\n",
      "   - cases:     174355\n",
      "   - deaths:    7914\n",
      "   - recovered: 153436\n",
      "   - sick:      13005\n",
      "   - deathrate: 0.04539015227552981\n"
     ]
    }
   ],
   "source": [
    "# Overview over entire data. Sanity check. Should be the same data as on the RKI dashboard\n",
    "overall = by_age[[\"cases\", \"deaths\", \"recovered\", \"sick\"]].sum(axis=\"rows\")\n",
    "print(\"overall\")\n",
    "print(f\"   - cases:     {overall.cases}\")\n",
    "print(f\"   - deaths:    {overall.deaths}\")\n",
    "print(f\"   - recovered: {overall.recovered}\")\n",
    "print(f\"   - sick:      {overall.sick}\")\n",
    "print(f\"   - deathrate: {overall.deaths / overall.cases}\")"
   ]
  },
  {
   "cell_type": "markdown",
   "metadata": {},
   "source": [
    "## Cases per week in a county"
   ]
  },
  {
   "cell_type": "code",
   "execution_count": 13,
   "metadata": {},
   "outputs": [
    {
     "data": {
      "text/html": [
       "<div>\n",
       "<style scoped>\n",
       "    .dataframe tbody tr th:only-of-type {\n",
       "        vertical-align: middle;\n",
       "    }\n",
       "\n",
       "    .dataframe tbody tr th {\n",
       "        vertical-align: top;\n",
       "    }\n",
       "\n",
       "    .dataframe thead th {\n",
       "        text-align: right;\n",
       "    }\n",
       "</style>\n",
       "<table border=\"1\" class=\"dataframe\">\n",
       "  <thead>\n",
       "    <tr style=\"text-align: right;\">\n",
       "      <th></th>\n",
       "      <th>cases</th>\n",
       "      <th>deaths</th>\n",
       "      <th>recovered</th>\n",
       "    </tr>\n",
       "    <tr>\n",
       "      <th>week</th>\n",
       "      <th></th>\n",
       "      <th></th>\n",
       "      <th></th>\n",
       "    </tr>\n",
       "  </thead>\n",
       "  <tbody>\n",
       "    <tr>\n",
       "      <th>5</th>\n",
       "      <td>1</td>\n",
       "      <td>0</td>\n",
       "      <td>1</td>\n",
       "    </tr>\n",
       "    <tr>\n",
       "      <th>6</th>\n",
       "      <td>2</td>\n",
       "      <td>0</td>\n",
       "      <td>2</td>\n",
       "    </tr>\n",
       "    <tr>\n",
       "      <th>7</th>\n",
       "      <td>1</td>\n",
       "      <td>0</td>\n",
       "      <td>1</td>\n",
       "    </tr>\n",
       "    <tr>\n",
       "      <th>9</th>\n",
       "      <td>2</td>\n",
       "      <td>0</td>\n",
       "      <td>2</td>\n",
       "    </tr>\n",
       "    <tr>\n",
       "      <th>10</th>\n",
       "      <td>26</td>\n",
       "      <td>0</td>\n",
       "      <td>25</td>\n",
       "    </tr>\n",
       "    <tr>\n",
       "      <th>11</th>\n",
       "      <td>220</td>\n",
       "      <td>0</td>\n",
       "      <td>220</td>\n",
       "    </tr>\n",
       "    <tr>\n",
       "      <th>12</th>\n",
       "      <td>1053</td>\n",
       "      <td>11</td>\n",
       "      <td>1042</td>\n",
       "    </tr>\n",
       "    <tr>\n",
       "      <th>13</th>\n",
       "      <td>1332</td>\n",
       "      <td>30</td>\n",
       "      <td>1300</td>\n",
       "    </tr>\n",
       "    <tr>\n",
       "      <th>14</th>\n",
       "      <td>1193</td>\n",
       "      <td>47</td>\n",
       "      <td>1138</td>\n",
       "    </tr>\n",
       "    <tr>\n",
       "      <th>15</th>\n",
       "      <td>796</td>\n",
       "      <td>31</td>\n",
       "      <td>762</td>\n",
       "    </tr>\n",
       "    <tr>\n",
       "      <th>16</th>\n",
       "      <td>539</td>\n",
       "      <td>25</td>\n",
       "      <td>512</td>\n",
       "    </tr>\n",
       "    <tr>\n",
       "      <th>17</th>\n",
       "      <td>363</td>\n",
       "      <td>16</td>\n",
       "      <td>190</td>\n",
       "    </tr>\n",
       "    <tr>\n",
       "      <th>18</th>\n",
       "      <td>328</td>\n",
       "      <td>9</td>\n",
       "      <td>145</td>\n",
       "    </tr>\n",
       "    <tr>\n",
       "      <th>19</th>\n",
       "      <td>195</td>\n",
       "      <td>6</td>\n",
       "      <td>44</td>\n",
       "    </tr>\n",
       "    <tr>\n",
       "      <th>20</th>\n",
       "      <td>152</td>\n",
       "      <td>0</td>\n",
       "      <td>8</td>\n",
       "    </tr>\n",
       "  </tbody>\n",
       "</table>\n",
       "</div>"
      ],
      "text/plain": [
       "      cases  deaths  recovered\n",
       "week                          \n",
       "5         1       0          1\n",
       "6         2       0          2\n",
       "7         1       0          1\n",
       "9         2       0          2\n",
       "10       26       0         25\n",
       "11      220       0        220\n",
       "12     1053      11       1042\n",
       "13     1332      30       1300\n",
       "14     1193      47       1138\n",
       "15      796      31        762\n",
       "16      539      25        512\n",
       "17      363      16        190\n",
       "18      328       9        145\n",
       "19      195       6         44\n",
       "20      152       0          8"
      ]
     },
     "execution_count": 13,
     "metadata": {},
     "output_type": "execute_result"
    }
   ],
   "source": [
    "county = \"SK München\"\n",
    "county_data = rki_cases[rki_cases.Landkreis == county].copy()\n",
    "county_data[\"week\"] = county_data[\"Meldedatum\"].apply(lambda d: d.isocalendar()[1])\n",
    "county_data.groupby(\"week\").sum()[[\"cases\", \"deaths\", \"recovered\"]]"
   ]
  }
 ],
 "metadata": {
  "kernelspec": {
   "display_name": "Python 3",
   "language": "python",
   "name": "python3"
  },
  "language_info": {
   "codemirror_mode": {
    "name": "ipython",
    "version": 3
   },
   "file_extension": ".py",
   "mimetype": "text/x-python",
   "name": "python",
   "nbconvert_exporter": "python",
   "pygments_lexer": "ipython3",
   "version": "3.8.2"
  }
 },
 "nbformat": 4,
 "nbformat_minor": 4
}
