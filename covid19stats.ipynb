{
 "cells": [
  {
   "cell_type": "markdown",
   "metadata": {
    "pycharm": {
     "name": "#%% md\n"
    }
   },
   "source": [
    "# COVID 19 Stats -- Data by Robert Koch Institut, processed by [NPGEO](https://npgeo-corona-npgeo-de.hub.arcgis.com/datasets/dd4580c810204019a7b8eb3e0b329dd6_0)\n",
    "\n",
    "## Boilerplate"
   ]
  },
  {
   "cell_type": "code",
   "execution_count": 1,
   "metadata": {},
   "outputs": [],
   "source": [
    "import datetime\n",
    "\n",
    "import pandas as pd\n",
    "import numpy as np\n",
    "import qgrid\n",
    "\n",
    "%matplotlib widget\n",
    "import matplotlib.pyplot as plt\n",
    "import matplotlib.dates as mdates\n",
    "\n",
    "\n",
    "def prepare(col: str, refcol: str, df: pd.DataFrame) -> pd.Series:\n",
    "    \"\"\"Generate a series that can be use with the standar sum() function\n",
    "    \n",
    "    The documentation of the dataset specifies that \"AnzahlFall\" and other\n",
    "    columns should not be simply summed up.\n",
    "    \"\"\"\n",
    "    # Uses numpy's vectorize() for massive performance improvements.\n",
    "    # Does the same thing as:\n",
    "    # return pd.Series((row[col] if row[refcol] in [0,1] else 0) for _, row in df.iterrows())\n",
    "    \n",
    "    def preparation(col, refcol):\n",
    "        return col if refcol == 0 or refcol == 1 else 0\n",
    "    prep = np.vectorize(preparation)\n",
    "    return pd.Series(prep(df[col].to_numpy(), df[refcol].to_numpy()))\n",
    "    "
   ]
  },
  {
   "cell_type": "markdown",
   "metadata": {
    "pycharm": {
     "name": "#%% md\n"
    }
   },
   "source": [
    "## Load main data source\n",
    "\n",
    "Data License: Robert Koch-Institut (RKI), [dl-de/by-2-0](https://www.govdata.de/dl-de/by-2-0).\n",
    "Provided by [NPGEO](https://npgeo-corona-npgeo-de.hub.arcgis.com/datasets/dd4580c810204019a7b8eb3e0b329dd6_0)."
   ]
  },
  {
   "cell_type": "code",
   "execution_count": 2,
   "metadata": {
    "pycharm": {
     "name": "#%%\n"
    }
   },
   "outputs": [],
   "source": [
    "def get_cases(date: datetime.date, url_prefix=\"https://raw.githubusercontent.com/woefe/covid19stats/autodata/data/silo\") -> pd.DataFrame:\n",
    "    date_str = date.isoformat()\n",
    "    rki_cases = pd.read_csv(f\"{url_prefix}/{date_str}.csv\")\n",
    "    rki_cases[\"Datenstand\"] = pd.to_datetime(rki_cases[\"Datenstand\"], format=\"%d.%m.%Y, %H:%M Uhr\")\n",
    "    rki_cases[\"Meldedatum\"] = pd.to_datetime(rki_cases[\"Meldedatum\"], format=\"%Y/%m/%d %H:%M:%S\")\n",
    "    rki_cases[\"Refdatum\"] = pd.to_datetime(rki_cases[\"Refdatum\"], format=\"%Y/%m/%d %H:%M:%S\")\n",
    "    rki_cases[\"cases\"] = prepare(\"AnzahlFall\", \"NeuerFall\", rki_cases)\n",
    "    rki_cases[\"deaths\"] = prepare(\"AnzahlTodesfall\", \"NeuerTodesfall\", rki_cases)\n",
    "    rki_cases[\"recovered\"] = prepare(\"AnzahlGenesen\", \"NeuGenesen\", rki_cases)\n",
    "    return rki_cases\n",
    "\n",
    "rki_cases = get_cases(datetime.date.today())"
   ]
  },
  {
   "cell_type": "markdown",
   "metadata": {
    "pycharm": {
     "name": "#%% md\n"
    }
   },
   "source": [
    "## Load district data\n",
    "Used to get number of residents and size in km² of every county.\n",
    "Dataset is taken from [NPGEO](https://npgeo-corona-npgeo-de.hub.arcgis.com/datasets/917fc37a709542548cc3be077a786c17_0)"
   ]
  },
  {
   "cell_type": "code",
   "execution_count": 3,
   "metadata": {
    "pycharm": {
     "name": "#%%\n"
    }
   },
   "outputs": [],
   "source": [
    "rki_lkr = pd.read_csv(\"data/RKI_Corona_Landkreise.csv\")"
   ]
  },
  {
   "cell_type": "markdown",
   "metadata": {
    "pycharm": {
     "name": "#%% md\n"
    }
   },
   "source": [
    "## Load state data\n",
    "The destatis dataset is used to get number of residents and size in km² of every german state.\n",
    "Dataset is extracted from [destatis](https://www.destatis.de/DE/Themen/Laender-Regionen/Regionales/Gemeindeverzeichnis/Administrativ/02-bundeslaender.xlsx?__blob=publicationFile)."
   ]
  },
  {
   "cell_type": "code",
   "execution_count": 4,
   "metadata": {
    "pycharm": {
     "name": "#%%\n"
    }
   },
   "outputs": [],
   "source": [
    "destatis = pd.read_csv(\"data/destatis_bundeslaender.csv\")"
   ]
  },
  {
   "cell_type": "markdown",
   "metadata": {
    "pycharm": {
     "name": "#%% md\n"
    }
   },
   "source": [
    "## Overview broken down by states"
   ]
  },
  {
   "cell_type": "code",
   "execution_count": 5,
   "metadata": {
    "pycharm": {
     "name": "#%%\n"
    }
   },
   "outputs": [
    {
     "data": {
      "application/vnd.jupyter.widget-view+json": {
       "model_id": "1161993e405441d49aca9b3ff23edb28",
       "version_major": 2,
       "version_minor": 0
      },
      "text/plain": [
       "QgridWidget(grid_options={'fullWidthRows': True, 'syncColumnCellResize': True, 'forceFitColumns': True, 'defau…"
      ]
     },
     "metadata": {},
     "output_type": "display_data"
    }
   ],
   "source": [
    "cases = rki_cases.groupby(\"Bundesland\").sum()[[\"cases\", \"deaths\", \"recovered\"]]\n",
    "states = pd.merge(cases, destatis[[\"Bundesland\", \"Flaeche\", \"Einwohner\"]], on=\"Bundesland\")\n",
    "states[\"cases/km²\"] = states[\"cases\"]/states[\"Flaeche\"]\n",
    "states[\"cases/inhabitants\"] = states[\"cases\"]/states[\"Einwohner\"]\n",
    "states[\"deaths/km²\"] = states[\"deaths\"]/states[\"Flaeche\"]\n",
    "states[\"deaths/inhabitants\"] = states[\"deaths\"]/states[\"Einwohner\"]\n",
    "states.drop(columns=[\"Flaeche\", \"Einwohner\"], inplace=True)\n",
    "qgrid.show_grid(states, show_toolbar=True)"
   ]
  },
  {
   "cell_type": "markdown",
   "metadata": {
    "pycharm": {
     "name": "#%% md\n"
    }
   },
   "source": [
    "## Last seven days broken down by district"
   ]
  },
  {
   "cell_type": "code",
   "execution_count": 6,
   "metadata": {
    "pycharm": {
     "name": "#%%\n"
    }
   },
   "outputs": [
    {
     "data": {
      "application/vnd.jupyter.widget-view+json": {
       "model_id": "d19597fccc66461c95fa289c0f63d089",
       "version_major": 2,
       "version_minor": 0
      },
      "text/plain": [
       "QgridWidget(grid_options={'fullWidthRows': True, 'syncColumnCellResize': True, 'forceFitColumns': True, 'defau…"
      ]
     },
     "metadata": {},
     "output_type": "display_data"
    }
   ],
   "source": [
    "start_at = pd.to_datetime(datetime.date.today() - datetime.timedelta(days=7))\n",
    "lkr = rki_lkr[[\"county\", \"EWZ\", \"KFL\"]]\n",
    "sum_lkr = rki_cases[rki_cases.Meldedatum > start_at].groupby(\"Landkreis\").sum()[[\"cases\", \"deaths\", \"recovered\"]]\n",
    "counties = pd.merge(lkr, sum_lkr, right_on=\"Landkreis\", left_on=\"county\")\n",
    "counties[\"cases/100000 inhabitants\"] = (counties[\"cases\"]/counties[\"EWZ\"])*100000\n",
    "counties[\"cases/km²\"] = counties[\"cases\"]/counties[\"KFL\"]\n",
    "counties[\"cases/inhabitants\"] = counties[\"cases\"]/counties[\"EWZ\"]\n",
    "counties[\"deaths/km²\"] = counties[\"deaths\"]/counties[\"KFL\"]\n",
    "counties[\"deaths/inhabitants\"] = counties[\"deaths\"]/counties[\"EWZ\"]\n",
    "counties.drop([\"EWZ\", \"KFL\"], axis=\"columns\", inplace=True)\n",
    "qgrid.show_grid(counties, show_toolbar=True)"
   ]
  },
  {
   "cell_type": "markdown",
   "metadata": {
    "pycharm": {
     "name": "#%% md\n"
    }
   },
   "source": [
    "## Cases, recovered, deaths (all of Germany)"
   ]
  },
  {
   "cell_type": "code",
   "execution_count": 7,
   "metadata": {
    "pycharm": {
     "name": "#%%\n"
    }
   },
   "outputs": [
    {
     "data": {
      "text/html": [
       "<div>\n",
       "<style scoped>\n",
       "    .dataframe tbody tr th:only-of-type {\n",
       "        vertical-align: middle;\n",
       "    }\n",
       "\n",
       "    .dataframe tbody tr th {\n",
       "        vertical-align: top;\n",
       "    }\n",
       "\n",
       "    .dataframe thead th {\n",
       "        text-align: right;\n",
       "    }\n",
       "</style>\n",
       "<table border=\"1\" class=\"dataframe\">\n",
       "  <thead>\n",
       "    <tr style=\"text-align: right;\">\n",
       "      <th></th>\n",
       "      <th>cases</th>\n",
       "      <th>deaths</th>\n",
       "      <th>recovered</th>\n",
       "      <th>cum_cases</th>\n",
       "      <th>cum_deaths</th>\n",
       "      <th>cum_recovered</th>\n",
       "    </tr>\n",
       "    <tr>\n",
       "      <th>Meldedatum</th>\n",
       "      <th></th>\n",
       "      <th></th>\n",
       "      <th></th>\n",
       "      <th></th>\n",
       "      <th></th>\n",
       "      <th></th>\n",
       "    </tr>\n",
       "  </thead>\n",
       "  <tbody>\n",
       "    <tr>\n",
       "      <th>2020-09-17</th>\n",
       "      <td>2275</td>\n",
       "      <td>1</td>\n",
       "      <td>74</td>\n",
       "      <td>269354</td>\n",
       "      <td>9392</td>\n",
       "      <td>243624</td>\n",
       "    </tr>\n",
       "    <tr>\n",
       "      <th>2020-09-18</th>\n",
       "      <td>2022</td>\n",
       "      <td>3</td>\n",
       "      <td>47</td>\n",
       "      <td>271376</td>\n",
       "      <td>9395</td>\n",
       "      <td>243671</td>\n",
       "    </tr>\n",
       "    <tr>\n",
       "      <th>2020-09-19</th>\n",
       "      <td>1312</td>\n",
       "      <td>0</td>\n",
       "      <td>24</td>\n",
       "      <td>272688</td>\n",
       "      <td>9395</td>\n",
       "      <td>243695</td>\n",
       "    </tr>\n",
       "    <tr>\n",
       "      <th>2020-09-20</th>\n",
       "      <td>593</td>\n",
       "      <td>1</td>\n",
       "      <td>13</td>\n",
       "      <td>273281</td>\n",
       "      <td>9396</td>\n",
       "      <td>243708</td>\n",
       "    </tr>\n",
       "    <tr>\n",
       "      <th>2020-09-21</th>\n",
       "      <td>877</td>\n",
       "      <td>0</td>\n",
       "      <td>19</td>\n",
       "      <td>274158</td>\n",
       "      <td>9396</td>\n",
       "      <td>243727</td>\n",
       "    </tr>\n",
       "  </tbody>\n",
       "</table>\n",
       "</div>"
      ],
      "text/plain": [
       "            cases  deaths  recovered  cum_cases  cum_deaths  cum_recovered\n",
       "Meldedatum                                                                \n",
       "2020-09-17   2275       1         74     269354        9392         243624\n",
       "2020-09-18   2022       3         47     271376        9395         243671\n",
       "2020-09-19   1312       0         24     272688        9395         243695\n",
       "2020-09-20    593       1         13     273281        9396         243708\n",
       "2020-09-21    877       0         19     274158        9396         243727"
      ]
     },
     "execution_count": 7,
     "metadata": {},
     "output_type": "execute_result"
    }
   ],
   "source": [
    "#datecol = \"Refdatum\"\n",
    "datecol = \"Meldedatum\"\n",
    "\n",
    "#per_day = rki_cases[rki_cases[\"Bundesland\"] == \"Bayern\"].copy()\n",
    "per_day = rki_cases.copy()\n",
    "\n",
    "per_day[datecol] = rki_cases[datecol].dt.floor(\"D\")\n",
    "per_day = per_day.groupby(datecol).sum()[[\"cases\", \"deaths\", \"recovered\"]]\n",
    "per_day.sort_values(datecol, inplace=True)\n",
    "per_day[\"cum_cases\"] = per_day[\"cases\"].cumsum()\n",
    "per_day[\"cum_deaths\"] = per_day[\"deaths\"].cumsum()\n",
    "per_day[\"cum_recovered\"] = per_day[\"recovered\"].cumsum()\n",
    "per_day.tail(5)"
   ]
  },
  {
   "cell_type": "code",
   "execution_count": 8,
   "metadata": {
    "pycharm": {
     "name": "#%%\n"
    },
    "scrolled": false
   },
   "outputs": [
    {
     "data": {
      "application/vnd.jupyter.widget-view+json": {
       "model_id": "6f89a3b6827c472c80da4c72ad6e69c8",
       "version_major": 2,
       "version_minor": 0
      },
      "text/plain": [
       "Canvas(toolbar=Toolbar(toolitems=[('Home', 'Reset original view', 'home', 'home'), ('Back', 'Back to previous …"
      ]
     },
     "metadata": {},
     "output_type": "display_data"
    }
   ],
   "source": [
    "fig, ax = plt.subplots(figsize=(10,8))\n",
    "import matplotlib.dates as mdates\n",
    "\n",
    "plt.plot(per_day.index, per_day.cum_cases, label=\"Cases\")\n",
    "plt.plot(per_day.index, per_day.cum_deaths, label=\"Deaths\")\n",
    "\n",
    "# The recovered cases should \"lag behind\" by approx., but it doesn't.\n",
    "# That's because the dataset does not have a date indicating when a patient has recovered.\n",
    "# Instead the original record seems to be updated.\n",
    "# Hence, the I won't plot the recovered cases.\n",
    "#plt.plot(per_day.index, per_day.cum_recovered, label=\"Recovered\")\n",
    "ax.get_xaxis().set_major_locator(mdates.DayLocator(interval=5))\n",
    "ax.get_xaxis().set_minor_locator(mdates.DayLocator(interval=1))\n",
    "\n",
    "fig.autofmt_xdate()\n",
    "plt.legend()\n",
    "plt.title(\"Cumulative cases (all of Germany)\")\n",
    "plt.grid()\n",
    "plt.show()\n"
   ]
  },
  {
   "cell_type": "code",
   "execution_count": 9,
   "metadata": {
    "scrolled": false
   },
   "outputs": [
    {
     "data": {
      "application/vnd.jupyter.widget-view+json": {
       "model_id": "91386f4df850446fa532528cdbdbb278",
       "version_major": 2,
       "version_minor": 0
      },
      "text/plain": [
       "Canvas(toolbar=Toolbar(toolitems=[('Home', 'Reset original view', 'home', 'home'), ('Back', 'Back to previous …"
      ]
     },
     "metadata": {},
     "output_type": "display_data"
    }
   ],
   "source": [
    "fig, ax = plt.subplots(figsize=(10,8))\n",
    "\n",
    "plt.bar(per_day.index, per_day.cases, label=\"Cases\")\n",
    "#plt.plot(per_day.index, per_day.cum_deaths, label=\"Deaths\")\n",
    "#plt.plot(per_day.index, per_day.cum_recovered, label=\"Recovered\")\n",
    "ax.get_xaxis().set_major_locator(mdates.DayLocator(interval=5))\n",
    "ax.get_xaxis().set_minor_locator(mdates.DayLocator(interval=1))\n",
    "\n",
    "fig.autofmt_xdate()\n",
    "plt.legend()\n",
    "plt.title(\"Registered cases per day (all of Germany)\")\n",
    "plt.grid()\n",
    "plt.show()"
   ]
  },
  {
   "cell_type": "markdown",
   "metadata": {},
   "source": [
    "## Registered cases per state"
   ]
  },
  {
   "cell_type": "code",
   "execution_count": 10,
   "metadata": {},
   "outputs": [],
   "source": [
    "states = list(rki_cases.drop_duplicates(\"Bundesland\").Bundesland)\n",
    "\n",
    "colors = [\"black\", \"gray\", \"lightgray\", \"red\", \"lightcoral\", \"goldenrod\", \"yellow\", \"olive\", \"chartreuse\", \"forestgreen\", \"aqua\", \"powderblue\", \"royalblue\", \"darkviolet\", \"violet\", \"fuchsia\"]\n",
    "\n",
    "#datecol = \"Refdatum\"\n",
    "datecol = \"Meldedatum\"\n",
    "\n",
    "def plot_data(state):\n",
    "    df = rki_cases[rki_cases[\"Bundesland\"] == state].copy()\n",
    "\n",
    "    df[datecol] = rki_cases[datecol].dt.floor(\"D\")\n",
    "    df = df.groupby(datecol).sum()\n",
    "    df.sort_values(datecol, inplace=True)\n",
    "    return df\n",
    "\n",
    "\n",
    "by_state = pd.DataFrame(index=rki_cases.groupby(datecol).first().index)\n",
    "for state in states:\n",
    "    by_state[state] = plot_data(state).cases\n",
    "by_state = by_state.fillna(0) "
   ]
  },
  {
   "cell_type": "code",
   "execution_count": 11,
   "metadata": {},
   "outputs": [
    {
     "data": {
      "application/vnd.jupyter.widget-view+json": {
       "model_id": "81570e46ab394b84b1a038d3194655b2",
       "version_major": 2,
       "version_minor": 0
      },
      "text/plain": [
       "Canvas(toolbar=Toolbar(toolitems=[('Home', 'Reset original view', 'home', 'home'), ('Back', 'Back to previous …"
      ]
     },
     "metadata": {},
     "output_type": "display_data"
    }
   ],
   "source": [
    "fig, ax = plt.subplots(figsize=(10,8))\n",
    "\n",
    "for state, color in zip(states, colors):\n",
    "    srs = by_state[state]\n",
    "    plt.plot(srs.index, srs, label=state, color=color)\n",
    "\n",
    "ax.get_xaxis().set_major_locator(mdates.DayLocator(interval=5))\n",
    "ax.get_xaxis().set_minor_locator(mdates.DayLocator(interval=1))\n",
    "\n",
    "fig.autofmt_xdate()\n",
    "\n",
    "plt.legend()\n",
    "plt.title(\"Registered cases overlayed\")\n",
    "plt.grid()\n",
    "plt.show()"
   ]
  },
  {
   "cell_type": "code",
   "execution_count": 12,
   "metadata": {
    "scrolled": false
   },
   "outputs": [
    {
     "data": {
      "application/vnd.jupyter.widget-view+json": {
       "model_id": "b9e96ab32ac04245b99a2d5a744a8a19",
       "version_major": 2,
       "version_minor": 0
      },
      "text/plain": [
       "Canvas(toolbar=Toolbar(toolitems=[('Home', 'Reset original view', 'home', 'home'), ('Back', 'Back to previous …"
      ]
     },
     "metadata": {},
     "output_type": "display_data"
    }
   ],
   "source": [
    "fig, ax = plt.subplots(figsize=(10,8))\n",
    "\n",
    "below = None\n",
    "for state, color in zip(states, colors):\n",
    "    df = by_state[state]\n",
    "    if below is None:\n",
    "        plt.bar(by_state.index, df, label=state, color=color)\n",
    "        below = df\n",
    "    else:\n",
    "        plt.bar(by_state.index, df, label=state, color=color, bottom=below)\n",
    "        below = below.add(df, fill_value=0)\n",
    "        \n",
    "\n",
    "ax.get_xaxis().set_major_locator(mdates.DayLocator(interval=5))\n",
    "ax.get_xaxis().set_minor_locator(mdates.DayLocator(interval=1))\n",
    "\n",
    "fig.autofmt_xdate()\n",
    "\n",
    "plt.legend()\n",
    "plt.title(\"Registered cases stacked\")\n",
    "plt.grid()\n",
    "plt.show()"
   ]
  },
  {
   "cell_type": "markdown",
   "metadata": {},
   "source": [
    "## Grouped by age (all of Germany, entire dataset)"
   ]
  },
  {
   "cell_type": "code",
   "execution_count": 13,
   "metadata": {},
   "outputs": [
    {
     "data": {
      "text/html": [
       "<div>\n",
       "<style scoped>\n",
       "    .dataframe tbody tr th:only-of-type {\n",
       "        vertical-align: middle;\n",
       "    }\n",
       "\n",
       "    .dataframe tbody tr th {\n",
       "        vertical-align: top;\n",
       "    }\n",
       "\n",
       "    .dataframe thead th {\n",
       "        text-align: right;\n",
       "    }\n",
       "</style>\n",
       "<table border=\"1\" class=\"dataframe\">\n",
       "  <thead>\n",
       "    <tr style=\"text-align: right;\">\n",
       "      <th></th>\n",
       "      <th>cases</th>\n",
       "      <th>deaths</th>\n",
       "      <th>recovered</th>\n",
       "      <th>sick</th>\n",
       "      <th>deathrate %</th>\n",
       "    </tr>\n",
       "    <tr>\n",
       "      <th>Altersgruppe</th>\n",
       "      <th></th>\n",
       "      <th></th>\n",
       "      <th></th>\n",
       "      <th></th>\n",
       "      <th></th>\n",
       "    </tr>\n",
       "  </thead>\n",
       "  <tbody>\n",
       "    <tr>\n",
       "      <th>A00-A04</th>\n",
       "      <td>4878</td>\n",
       "      <td>1</td>\n",
       "      <td>4337</td>\n",
       "      <td>540</td>\n",
       "      <td>0.020500</td>\n",
       "    </tr>\n",
       "    <tr>\n",
       "      <th>A05-A14</th>\n",
       "      <td>12838</td>\n",
       "      <td>0</td>\n",
       "      <td>11223</td>\n",
       "      <td>1615</td>\n",
       "      <td>0.000000</td>\n",
       "    </tr>\n",
       "    <tr>\n",
       "      <th>A15-A34</th>\n",
       "      <td>84566</td>\n",
       "      <td>19</td>\n",
       "      <td>75564</td>\n",
       "      <td>8983</td>\n",
       "      <td>0.022468</td>\n",
       "    </tr>\n",
       "    <tr>\n",
       "      <th>A35-A59</th>\n",
       "      <td>107640</td>\n",
       "      <td>448</td>\n",
       "      <td>100011</td>\n",
       "      <td>7181</td>\n",
       "      <td>0.416202</td>\n",
       "    </tr>\n",
       "    <tr>\n",
       "      <th>A60-A79</th>\n",
       "      <td>41213</td>\n",
       "      <td>3036</td>\n",
       "      <td>36159</td>\n",
       "      <td>2018</td>\n",
       "      <td>7.366608</td>\n",
       "    </tr>\n",
       "    <tr>\n",
       "      <th>A80+</th>\n",
       "      <td>22841</td>\n",
       "      <td>5892</td>\n",
       "      <td>16313</td>\n",
       "      <td>636</td>\n",
       "      <td>25.795718</td>\n",
       "    </tr>\n",
       "    <tr>\n",
       "      <th>unbekannt</th>\n",
       "      <td>182</td>\n",
       "      <td>0</td>\n",
       "      <td>120</td>\n",
       "      <td>62</td>\n",
       "      <td>0.000000</td>\n",
       "    </tr>\n",
       "  </tbody>\n",
       "</table>\n",
       "</div>"
      ],
      "text/plain": [
       "               cases  deaths  recovered  sick  deathrate %\n",
       "Altersgruppe                                              \n",
       "A00-A04         4878       1       4337   540     0.020500\n",
       "A05-A14        12838       0      11223  1615     0.000000\n",
       "A15-A34        84566      19      75564  8983     0.022468\n",
       "A35-A59       107640     448     100011  7181     0.416202\n",
       "A60-A79        41213    3036      36159  2018     7.366608\n",
       "A80+           22841    5892      16313   636    25.795718\n",
       "unbekannt        182       0        120    62     0.000000"
      ]
     },
     "execution_count": 13,
     "metadata": {},
     "output_type": "execute_result"
    }
   ],
   "source": [
    "by_age = rki_cases.groupby(\"Altersgruppe\").sum()[[\"cases\", \"deaths\", \"recovered\"]]\n",
    "by_age[\"sick\"] = by_age.cases - by_age.deaths - by_age.recovered\n",
    "by_age[\"deathrate %\"] = (by_age.deaths / by_age.cases) * 100\n",
    "by_age"
   ]
  },
  {
   "cell_type": "code",
   "execution_count": 14,
   "metadata": {},
   "outputs": [
    {
     "name": "stdout",
     "output_type": "stream",
     "text": [
      "overall\n",
      "   - cases:     274158\n",
      "   - deaths:    9396\n",
      "   - recovered: 243727\n",
      "   - sick:      21035\n",
      "   - deathrate: 0.03427220799684853\n"
     ]
    }
   ],
   "source": [
    "# Overview over entire data. Sanity check. Should be the same data as on the RKI dashboard\n",
    "overall = by_age[[\"cases\", \"deaths\", \"recovered\", \"sick\"]].sum(axis=\"rows\")\n",
    "print(\"overall\")\n",
    "print(f\"   - cases:     {overall.cases}\")\n",
    "print(f\"   - deaths:    {overall.deaths}\")\n",
    "print(f\"   - recovered: {overall.recovered}\")\n",
    "print(f\"   - sick:      {overall.sick}\")\n",
    "print(f\"   - deathrate: {overall.deaths / overall.cases}\")"
   ]
  },
  {
   "cell_type": "markdown",
   "metadata": {},
   "source": [
    "## Cases per week in a county"
   ]
  },
  {
   "cell_type": "code",
   "execution_count": 15,
   "metadata": {},
   "outputs": [
    {
     "data": {
      "text/html": [
       "<div>\n",
       "<style scoped>\n",
       "    .dataframe tbody tr th:only-of-type {\n",
       "        vertical-align: middle;\n",
       "    }\n",
       "\n",
       "    .dataframe tbody tr th {\n",
       "        vertical-align: top;\n",
       "    }\n",
       "\n",
       "    .dataframe thead th {\n",
       "        text-align: right;\n",
       "    }\n",
       "</style>\n",
       "<table border=\"1\" class=\"dataframe\">\n",
       "  <thead>\n",
       "    <tr style=\"text-align: right;\">\n",
       "      <th></th>\n",
       "      <th>cases</th>\n",
       "      <th>deaths</th>\n",
       "      <th>recovered</th>\n",
       "    </tr>\n",
       "    <tr>\n",
       "      <th>week</th>\n",
       "      <th></th>\n",
       "      <th></th>\n",
       "      <th></th>\n",
       "    </tr>\n",
       "  </thead>\n",
       "  <tbody>\n",
       "    <tr>\n",
       "      <th>5</th>\n",
       "      <td>1</td>\n",
       "      <td>0</td>\n",
       "      <td>1</td>\n",
       "    </tr>\n",
       "    <tr>\n",
       "      <th>6</th>\n",
       "      <td>1</td>\n",
       "      <td>0</td>\n",
       "      <td>1</td>\n",
       "    </tr>\n",
       "    <tr>\n",
       "      <th>7</th>\n",
       "      <td>1</td>\n",
       "      <td>0</td>\n",
       "      <td>1</td>\n",
       "    </tr>\n",
       "    <tr>\n",
       "      <th>9</th>\n",
       "      <td>2</td>\n",
       "      <td>0</td>\n",
       "      <td>2</td>\n",
       "    </tr>\n",
       "    <tr>\n",
       "      <th>10</th>\n",
       "      <td>22</td>\n",
       "      <td>0</td>\n",
       "      <td>22</td>\n",
       "    </tr>\n",
       "    <tr>\n",
       "      <th>11</th>\n",
       "      <td>224</td>\n",
       "      <td>1</td>\n",
       "      <td>223</td>\n",
       "    </tr>\n",
       "    <tr>\n",
       "      <th>12</th>\n",
       "      <td>1055</td>\n",
       "      <td>12</td>\n",
       "      <td>1043</td>\n",
       "    </tr>\n",
       "    <tr>\n",
       "      <th>13</th>\n",
       "      <td>1336</td>\n",
       "      <td>34</td>\n",
       "      <td>1302</td>\n",
       "    </tr>\n",
       "    <tr>\n",
       "      <th>14</th>\n",
       "      <td>1193</td>\n",
       "      <td>54</td>\n",
       "      <td>1139</td>\n",
       "    </tr>\n",
       "    <tr>\n",
       "      <th>15</th>\n",
       "      <td>801</td>\n",
       "      <td>36</td>\n",
       "      <td>765</td>\n",
       "    </tr>\n",
       "    <tr>\n",
       "      <th>16</th>\n",
       "      <td>537</td>\n",
       "      <td>32</td>\n",
       "      <td>505</td>\n",
       "    </tr>\n",
       "    <tr>\n",
       "      <th>17</th>\n",
       "      <td>357</td>\n",
       "      <td>18</td>\n",
       "      <td>339</td>\n",
       "    </tr>\n",
       "    <tr>\n",
       "      <th>18</th>\n",
       "      <td>331</td>\n",
       "      <td>13</td>\n",
       "      <td>318</td>\n",
       "    </tr>\n",
       "    <tr>\n",
       "      <th>19</th>\n",
       "      <td>203</td>\n",
       "      <td>10</td>\n",
       "      <td>193</td>\n",
       "    </tr>\n",
       "    <tr>\n",
       "      <th>20</th>\n",
       "      <td>184</td>\n",
       "      <td>2</td>\n",
       "      <td>182</td>\n",
       "    </tr>\n",
       "    <tr>\n",
       "      <th>21</th>\n",
       "      <td>87</td>\n",
       "      <td>3</td>\n",
       "      <td>84</td>\n",
       "    </tr>\n",
       "    <tr>\n",
       "      <th>22</th>\n",
       "      <td>152</td>\n",
       "      <td>2</td>\n",
       "      <td>150</td>\n",
       "    </tr>\n",
       "    <tr>\n",
       "      <th>23</th>\n",
       "      <td>54</td>\n",
       "      <td>1</td>\n",
       "      <td>53</td>\n",
       "    </tr>\n",
       "    <tr>\n",
       "      <th>24</th>\n",
       "      <td>59</td>\n",
       "      <td>1</td>\n",
       "      <td>58</td>\n",
       "    </tr>\n",
       "    <tr>\n",
       "      <th>25</th>\n",
       "      <td>77</td>\n",
       "      <td>0</td>\n",
       "      <td>77</td>\n",
       "    </tr>\n",
       "    <tr>\n",
       "      <th>26</th>\n",
       "      <td>91</td>\n",
       "      <td>2</td>\n",
       "      <td>89</td>\n",
       "    </tr>\n",
       "    <tr>\n",
       "      <th>27</th>\n",
       "      <td>133</td>\n",
       "      <td>1</td>\n",
       "      <td>132</td>\n",
       "    </tr>\n",
       "    <tr>\n",
       "      <th>28</th>\n",
       "      <td>114</td>\n",
       "      <td>0</td>\n",
       "      <td>114</td>\n",
       "    </tr>\n",
       "    <tr>\n",
       "      <th>29</th>\n",
       "      <td>118</td>\n",
       "      <td>0</td>\n",
       "      <td>118</td>\n",
       "    </tr>\n",
       "    <tr>\n",
       "      <th>30</th>\n",
       "      <td>89</td>\n",
       "      <td>1</td>\n",
       "      <td>88</td>\n",
       "    </tr>\n",
       "    <tr>\n",
       "      <th>31</th>\n",
       "      <td>100</td>\n",
       "      <td>0</td>\n",
       "      <td>100</td>\n",
       "    </tr>\n",
       "    <tr>\n",
       "      <th>32</th>\n",
       "      <td>119</td>\n",
       "      <td>0</td>\n",
       "      <td>118</td>\n",
       "    </tr>\n",
       "    <tr>\n",
       "      <th>33</th>\n",
       "      <td>301</td>\n",
       "      <td>0</td>\n",
       "      <td>301</td>\n",
       "    </tr>\n",
       "    <tr>\n",
       "      <th>34</th>\n",
       "      <td>462</td>\n",
       "      <td>0</td>\n",
       "      <td>462</td>\n",
       "    </tr>\n",
       "    <tr>\n",
       "      <th>35</th>\n",
       "      <td>528</td>\n",
       "      <td>0</td>\n",
       "      <td>439</td>\n",
       "    </tr>\n",
       "    <tr>\n",
       "      <th>36</th>\n",
       "      <td>590</td>\n",
       "      <td>0</td>\n",
       "      <td>424</td>\n",
       "    </tr>\n",
       "    <tr>\n",
       "      <th>37</th>\n",
       "      <td>582</td>\n",
       "      <td>0</td>\n",
       "      <td>248</td>\n",
       "    </tr>\n",
       "    <tr>\n",
       "      <th>38</th>\n",
       "      <td>826</td>\n",
       "      <td>0</td>\n",
       "      <td>22</td>\n",
       "    </tr>\n",
       "  </tbody>\n",
       "</table>\n",
       "</div>"
      ],
      "text/plain": [
       "      cases  deaths  recovered\n",
       "week                          \n",
       "5         1       0          1\n",
       "6         1       0          1\n",
       "7         1       0          1\n",
       "9         2       0          2\n",
       "10       22       0         22\n",
       "11      224       1        223\n",
       "12     1055      12       1043\n",
       "13     1336      34       1302\n",
       "14     1193      54       1139\n",
       "15      801      36        765\n",
       "16      537      32        505\n",
       "17      357      18        339\n",
       "18      331      13        318\n",
       "19      203      10        193\n",
       "20      184       2        182\n",
       "21       87       3         84\n",
       "22      152       2        150\n",
       "23       54       1         53\n",
       "24       59       1         58\n",
       "25       77       0         77\n",
       "26       91       2         89\n",
       "27      133       1        132\n",
       "28      114       0        114\n",
       "29      118       0        118\n",
       "30       89       1         88\n",
       "31      100       0        100\n",
       "32      119       0        118\n",
       "33      301       0        301\n",
       "34      462       0        462\n",
       "35      528       0        439\n",
       "36      590       0        424\n",
       "37      582       0        248\n",
       "38      826       0         22"
      ]
     },
     "execution_count": 15,
     "metadata": {},
     "output_type": "execute_result"
    }
   ],
   "source": [
    "county = \"SK München\"\n",
    "county_data = rki_cases[rki_cases.Landkreis == county].copy()\n",
    "county_data[\"week\"] = county_data[\"Meldedatum\"].apply(lambda d: d.isocalendar()[1])\n",
    "county_data.groupby(\"week\").sum()[[\"cases\", \"deaths\", \"recovered\"]]"
   ]
  },
  {
   "cell_type": "markdown",
   "metadata": {},
   "source": [
    "## Estimated active cases over time\n",
    "\n",
    "For the following you need to download the entire data set (i.e the entire autodata branch from GitHub), not only the data for the current day. You can download the data as zip from [here](https://github.com/woefe/covid19stats/archive/autodata.zip)"
   ]
  },
  {
   "cell_type": "code",
   "execution_count": 16,
   "metadata": {},
   "outputs": [
    {
     "name": "stderr",
     "output_type": "stream",
     "text": [
      "WARNING:root:Ignoring file /home/woefe/download/covid19stats-autodata/data/silo/2020-04-06.csv\n",
      "WARNING:root:Ignoring file /home/woefe/download/covid19stats-autodata/data/silo/2020-03-30.csv\n",
      "WARNING:root:Ignoring file /home/woefe/download/covid19stats-autodata/data/silo/2020-04-07.csv\n",
      "WARNING:root:Ignoring file /home/woefe/download/covid19stats-autodata/data/silo/2020-03-31.csv\n",
      "WARNING:root:Ignoring file /home/woefe/download/covid19stats-autodata/data/silo/2020-04-01.csv\n",
      "WARNING:root:Ignoring file /home/woefe/download/covid19stats-autodata/data/silo/2020-04-02.csv\n",
      "WARNING:root:Ignoring file /home/woefe/download/covid19stats-autodata/data/silo/2020-04-03.csv\n",
      "WARNING:root:Ignoring file /home/woefe/download/covid19stats-autodata/data/silo/2020-04-04.csv\n",
      "WARNING:root:Ignoring file /home/woefe/download/covid19stats-autodata/data/silo/2020-04-05.csv\n"
     ]
    }
   ],
   "source": [
    "import calendar\n",
    "import os\n",
    "import logging\n",
    "from pathlib import Path\n",
    "from multiprocessing import Pool\n",
    "from typing import Tuple\n",
    "\n",
    "SILO_DIR = Path.home() / \"download/covid19stats-autodata/data/silo\"\n",
    "\n",
    "def get_active_cases(date: datetime.date) -> Tuple[datetime.date,int]:\n",
    "    date_str = date.isoformat()\n",
    "    try:\n",
    "        data_file = SILO_DIR / f\"{date_str}.csv\"\n",
    "        rki_cases = pd.read_csv(data_file)\n",
    "    except:\n",
    "        logging.warning(\"Ignoring file %s\", data_file)\n",
    "        return date, -1\n",
    "    cases = prepare(\"AnzahlFall\", \"NeuerFall\", rki_cases).sum()\n",
    "    deaths = prepare(\"AnzahlTodesfall\", \"NeuerTodesfall\", rki_cases).sum()\n",
    "    recovered = prepare(\"AnzahlGenesen\", \"NeuGenesen\", rki_cases).sum()\n",
    "    return date, cases - deaths - recovered\n",
    "\n",
    "cal = calendar.Calendar()\n",
    "dates = (\n",
    "    date \n",
    "    for month in range(4,10)\n",
    "    for date in cal.itermonthdates(2020, month)\n",
    "    if date <= datetime.date.today()\n",
    ")\n",
    "\n",
    "with Pool(len(os.sched_getaffinity(0))) as pool:\n",
    "    cases_per_day = pool.map(get_active_cases, dates)"
   ]
  },
  {
   "cell_type": "code",
   "execution_count": 17,
   "metadata": {
    "scrolled": true
   },
   "outputs": [
    {
     "data": {
      "application/vnd.jupyter.widget-view+json": {
       "model_id": "d79649161a5149cbba57d1d7f41e4f34",
       "version_major": 2,
       "version_minor": 0
      },
      "text/plain": [
       "Canvas(toolbar=Toolbar(toolitems=[('Home', 'Reset original view', 'home', 'home'), ('Back', 'Back to previous …"
      ]
     },
     "metadata": {},
     "output_type": "display_data"
    }
   ],
   "source": [
    "active_daily = pd.DataFrame(cases_per_day, columns=[\"date\", \"active_cases\"]).sort_values(\"date\")\n",
    "fig, ax = plt.subplots(figsize=(10,8))\n",
    "\n",
    "plt.plot(active_daily.date, active_daily.active_cases, label=\"Estimated active cases\")\n",
    "\n",
    "ax.get_xaxis().set_major_locator(mdates.DayLocator(interval=5))\n",
    "ax.get_xaxis().set_minor_locator(mdates.DayLocator(interval=1))\n",
    "\n",
    "fig.autofmt_xdate()\n",
    "plt.legend()\n",
    "plt.title(\"Estimated active cases every day (all of Germany)\")\n",
    "plt.grid()\n",
    "plt.show()"
   ]
  }
 ],
 "metadata": {
  "kernelspec": {
   "display_name": "Python 3",
   "language": "python",
   "name": "python3"
  },
  "language_info": {
   "codemirror_mode": {
    "name": "ipython",
    "version": 3
   },
   "file_extension": ".py",
   "mimetype": "text/x-python",
   "name": "python",
   "nbconvert_exporter": "python",
   "pygments_lexer": "ipython3",
   "version": "3.8.5"
  }
 },
 "nbformat": 4,
 "nbformat_minor": 4
}
