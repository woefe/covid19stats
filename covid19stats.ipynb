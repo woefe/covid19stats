{
 "cells": [
  {
   "cell_type": "markdown",
   "metadata": {
    "pycharm": {
     "name": "#%% md\n"
    }
   },
   "source": [
    "# COVID 19 Stats -- Data by Robert Koch Institut, processed by [NPGEO](https://npgeo-corona-npgeo-de.hub.arcgis.com/datasets/dd4580c810204019a7b8eb3e0b329dd6_0)\n",
    "\n",
    "## Boilerplate"
   ]
  },
  {
   "cell_type": "code",
   "execution_count": 1,
   "metadata": {},
   "outputs": [],
   "source": [
    "import pandas as pd\n",
    "import qgrid\n",
    "\n",
    "%matplotlib widget\n",
    "import matplotlib.pyplot as plt\n",
    "import matplotlib.dates as mdates\n",
    "\n",
    "\n",
    "def prepare(col: str, refcol: str, df: pd.DataFrame) -> pd.Series:\n",
    "    \"\"\"Generate a series that can be use with the standar sum() function\n",
    "    \n",
    "    The documentation of the dataset specifies that \"AnzahlFall\" and other\n",
    "    columns should not be simply summed up.\n",
    "    \"\"\"\n",
    "    return pd.Series((row[col] if row[refcol] in [0,1] else 0) for _, row in df.iterrows())"
   ]
  },
  {
   "cell_type": "markdown",
   "metadata": {
    "pycharm": {
     "name": "#%% md\n"
    }
   },
   "source": [
    "## Load main data source\n",
    "\n",
    "Data License: Robert Koch-Institut (RKI), [dl-de/by-2-0](https://www.govdata.de/dl-de/by-2-0).\n",
    "Provided by [NPGEO](https://npgeo-corona-npgeo-de.hub.arcgis.com/datasets/dd4580c810204019a7b8eb3e0b329dd6_0)."
   ]
  },
  {
   "cell_type": "code",
   "execution_count": 2,
   "metadata": {
    "pycharm": {
     "name": "#%%\n"
    }
   },
   "outputs": [],
   "source": [
    "rki_cases = pd.read_csv(\"data/silo/2020-07-30.csv\")\n",
    "rki_cases[\"Datenstand\"] = pd.to_datetime(rki_cases[\"Datenstand\"], format=\"%d.%m.%Y, %H:%M Uhr\")\n",
    "rki_cases[\"Meldedatum\"] = pd.to_datetime(rki_cases[\"Meldedatum\"], format=\"%Y/%m/%d %H:%M:%S\")\n",
    "rki_cases[\"Refdatum\"] = pd.to_datetime(rki_cases[\"Refdatum\"], format=\"%Y/%m/%d %H:%M:%S\")\n",
    "rki_cases[\"cases\"] = prepare(\"AnzahlFall\", \"NeuerFall\", rki_cases)\n",
    "rki_cases[\"deaths\"] = prepare(\"AnzahlTodesfall\", \"NeuerTodesfall\", rki_cases)\n",
    "rki_cases[\"recovered\"] = prepare(\"AnzahlGenesen\", \"NeuGenesen\", rki_cases)"
   ]
  },
  {
   "cell_type": "markdown",
   "metadata": {
    "pycharm": {
     "name": "#%% md\n"
    }
   },
   "source": [
    "## Load county data\n",
    "Used to get number of residents and size in km² of every county.\n",
    "Dataset is taken from [NPGEO](https://npgeo-corona-npgeo-de.hub.arcgis.com/datasets/917fc37a709542548cc3be077a786c17_0)"
   ]
  },
  {
   "cell_type": "code",
   "execution_count": 3,
   "metadata": {
    "pycharm": {
     "name": "#%%\n"
    }
   },
   "outputs": [],
   "source": [
    "rki_lkr = pd.read_csv(\"data/RKI_Corona_Landkreise.csv\")"
   ]
  },
  {
   "cell_type": "markdown",
   "metadata": {
    "pycharm": {
     "name": "#%% md\n"
    }
   },
   "source": [
    "## Load state data\n",
    "The destatis dataset is used to get number of residents and size in km² of every german state.\n",
    "Dataset is extracted from [destatis](https://www.destatis.de/DE/Themen/Laender-Regionen/Regionales/Gemeindeverzeichnis/Administrativ/02-bundeslaender.xlsx?__blob=publicationFile)."
   ]
  },
  {
   "cell_type": "code",
   "execution_count": 4,
   "metadata": {
    "pycharm": {
     "name": "#%%\n"
    }
   },
   "outputs": [],
   "source": [
    "destatis = pd.read_csv(\"data/destatis_bundeslaender.csv\")"
   ]
  },
  {
   "cell_type": "markdown",
   "metadata": {
    "pycharm": {
     "name": "#%% md\n"
    }
   },
   "source": [
    "## Overview States"
   ]
  },
  {
   "cell_type": "code",
   "execution_count": 5,
   "metadata": {
    "pycharm": {
     "name": "#%%\n"
    }
   },
   "outputs": [
    {
     "data": {
      "application/vnd.jupyter.widget-view+json": {
       "model_id": "3ff0e8e0e6f0458ebf11e832deb2f67b",
       "version_major": 2,
       "version_minor": 0
      },
      "text/plain": [
       "QgridWidget(grid_options={'fullWidthRows': True, 'syncColumnCellResize': True, 'forceFitColumns': True, 'defau…"
      ]
     },
     "metadata": {},
     "output_type": "display_data"
    }
   ],
   "source": [
    "cases = rki_cases.groupby(\"Bundesland\").sum()[[\"cases\", \"deaths\", \"recovered\"]]\n",
    "states = pd.merge(cases, destatis[[\"Bundesland\", \"Flaeche\", \"Einwohner\"]], on=\"Bundesland\")\n",
    "states[\"cases/km²\"] = states[\"cases\"]/states[\"Flaeche\"]\n",
    "states[\"cases/inhabitants\"] = states[\"cases\"]/states[\"Einwohner\"]\n",
    "states[\"deaths/km²\"] = states[\"deaths\"]/states[\"Flaeche\"]\n",
    "states[\"deaths/inhabitants\"] = states[\"deaths\"]/states[\"Einwohner\"]\n",
    "states.drop(columns=[\"Flaeche\", \"Einwohner\"], inplace=True)\n",
    "qgrid.show_grid(states, show_toolbar=True)"
   ]
  },
  {
   "cell_type": "markdown",
   "metadata": {
    "pycharm": {
     "name": "#%% md\n"
    }
   },
   "source": [
    "## Overview Counties"
   ]
  },
  {
   "cell_type": "code",
   "execution_count": 6,
   "metadata": {
    "pycharm": {
     "name": "#%%\n"
    }
   },
   "outputs": [
    {
     "data": {
      "application/vnd.jupyter.widget-view+json": {
       "model_id": "509cba187f17405b9246bed6ed9a72f0",
       "version_major": 2,
       "version_minor": 0
      },
      "text/plain": [
       "QgridWidget(grid_options={'fullWidthRows': True, 'syncColumnCellResize': True, 'forceFitColumns': True, 'defau…"
      ]
     },
     "metadata": {},
     "output_type": "display_data"
    }
   ],
   "source": [
    "lkr = rki_lkr[[\"county\", \"EWZ\", \"KFL\"]]\n",
    "sum_lkr = rki_cases.groupby(\"Landkreis\").sum()[[\"cases\", \"deaths\", \"recovered\"]]\n",
    "counties = pd.merge(lkr, sum_lkr, right_on=\"Landkreis\", left_on=\"county\")\n",
    "counties[\"cases/km²\"] = counties[\"cases\"]/counties[\"KFL\"]\n",
    "counties[\"cases/inhabitants\"] = counties[\"cases\"]/counties[\"EWZ\"]\n",
    "counties[\"deaths/km²\"] = counties[\"deaths\"]/counties[\"KFL\"]\n",
    "counties[\"deaths/inhabitants\"] = counties[\"deaths\"]/counties[\"EWZ\"]\n",
    "counties.drop([\"EWZ\", \"KFL\"], axis=\"columns\", inplace=True)\n",
    "qgrid.show_grid(counties, show_toolbar=True)"
   ]
  },
  {
   "cell_type": "markdown",
   "metadata": {
    "pycharm": {
     "name": "#%% md\n"
    }
   },
   "source": [
    "## Cases, recovered, deaths (all of Germany)"
   ]
  },
  {
   "cell_type": "code",
   "execution_count": 7,
   "metadata": {
    "pycharm": {
     "name": "#%%\n"
    }
   },
   "outputs": [
    {
     "data": {
      "text/html": [
       "<div>\n",
       "<style scoped>\n",
       "    .dataframe tbody tr th:only-of-type {\n",
       "        vertical-align: middle;\n",
       "    }\n",
       "\n",
       "    .dataframe tbody tr th {\n",
       "        vertical-align: top;\n",
       "    }\n",
       "\n",
       "    .dataframe thead th {\n",
       "        text-align: right;\n",
       "    }\n",
       "</style>\n",
       "<table border=\"1\" class=\"dataframe\">\n",
       "  <thead>\n",
       "    <tr style=\"text-align: right;\">\n",
       "      <th></th>\n",
       "      <th>cases</th>\n",
       "      <th>deaths</th>\n",
       "      <th>recovered</th>\n",
       "      <th>cum_cases</th>\n",
       "      <th>cum_deaths</th>\n",
       "      <th>cum_recovered</th>\n",
       "    </tr>\n",
       "    <tr>\n",
       "      <th>Meldedatum</th>\n",
       "      <th></th>\n",
       "      <th></th>\n",
       "      <th></th>\n",
       "      <th></th>\n",
       "      <th></th>\n",
       "      <th></th>\n",
       "    </tr>\n",
       "  </thead>\n",
       "  <tbody>\n",
       "    <tr>\n",
       "      <th>2020-07-24</th>\n",
       "      <td>785</td>\n",
       "      <td>2</td>\n",
       "      <td>35</td>\n",
       "      <td>205313</td>\n",
       "      <td>9126</td>\n",
       "      <td>191310</td>\n",
       "    </tr>\n",
       "    <tr>\n",
       "      <th>2020-07-25</th>\n",
       "      <td>530</td>\n",
       "      <td>0</td>\n",
       "      <td>8</td>\n",
       "      <td>205843</td>\n",
       "      <td>9126</td>\n",
       "      <td>191318</td>\n",
       "    </tr>\n",
       "    <tr>\n",
       "      <th>2020-07-26</th>\n",
       "      <td>206</td>\n",
       "      <td>0</td>\n",
       "      <td>6</td>\n",
       "      <td>206049</td>\n",
       "      <td>9126</td>\n",
       "      <td>191324</td>\n",
       "    </tr>\n",
       "    <tr>\n",
       "      <th>2020-07-27</th>\n",
       "      <td>477</td>\n",
       "      <td>2</td>\n",
       "      <td>4</td>\n",
       "      <td>206526</td>\n",
       "      <td>9128</td>\n",
       "      <td>191328</td>\n",
       "    </tr>\n",
       "    <tr>\n",
       "      <th>2020-07-28</th>\n",
       "      <td>400</td>\n",
       "      <td>0</td>\n",
       "      <td>5</td>\n",
       "      <td>206926</td>\n",
       "      <td>9128</td>\n",
       "      <td>191333</td>\n",
       "    </tr>\n",
       "  </tbody>\n",
       "</table>\n",
       "</div>"
      ],
      "text/plain": [
       "            cases  deaths  recovered  cum_cases  cum_deaths  cum_recovered\n",
       "Meldedatum                                                                \n",
       "2020-07-24    785       2         35     205313        9126         191310\n",
       "2020-07-25    530       0          8     205843        9126         191318\n",
       "2020-07-26    206       0          6     206049        9126         191324\n",
       "2020-07-27    477       2          4     206526        9128         191328\n",
       "2020-07-28    400       0          5     206926        9128         191333"
      ]
     },
     "execution_count": 7,
     "metadata": {},
     "output_type": "execute_result"
    }
   ],
   "source": [
    "#datecol = \"Refdatum\"\n",
    "datecol = \"Meldedatum\"\n",
    "\n",
    "#per_day = rki_cases[rki_cases[\"Bundesland\"] == \"Bayern\"].copy()\n",
    "per_day = rki_cases.copy()\n",
    "\n",
    "per_day[datecol] = rki_cases[datecol].dt.floor(\"D\")\n",
    "per_day = per_day.groupby(datecol).sum()[[\"cases\", \"deaths\", \"recovered\"]]\n",
    "per_day.sort_values(datecol, inplace=True)\n",
    "per_day[\"cum_cases\"] = per_day[\"cases\"].cumsum()\n",
    "per_day[\"cum_deaths\"] = per_day[\"deaths\"].cumsum()\n",
    "per_day[\"cum_recovered\"] = per_day[\"recovered\"].cumsum()\n",
    "per_day.tail(5)"
   ]
  },
  {
   "cell_type": "code",
   "execution_count": 8,
   "metadata": {
    "pycharm": {
     "name": "#%%\n"
    },
    "scrolled": false
   },
   "outputs": [
    {
     "data": {
      "application/vnd.jupyter.widget-view+json": {
       "model_id": "886c647f90274355b890fa34797499c8",
       "version_major": 2,
       "version_minor": 0
      },
      "text/plain": [
       "Canvas(toolbar=Toolbar(toolitems=[('Home', 'Reset original view', 'home', 'home'), ('Back', 'Back to previous …"
      ]
     },
     "metadata": {},
     "output_type": "display_data"
    }
   ],
   "source": [
    "fig, ax = plt.subplots(figsize=(10,8))\n",
    "import matplotlib.dates as mdates\n",
    "\n",
    "plt.plot(per_day.index, per_day.cum_cases, label=\"Cases\")\n",
    "plt.plot(per_day.index, per_day.cum_deaths, label=\"Deaths\")\n",
    "\n",
    "# The recovered cases should \"lag behind\" by approx., but it doesn't.\n",
    "# That's because the dataset does not have a date indicating when a patient has recovered.\n",
    "# Instead the original record seems to be updated.\n",
    "# Hence, the I won't plot the recovered cases.\n",
    "#plt.plot(per_day.index, per_day.cum_recovered, label=\"Recovered\")\n",
    "ax.get_xaxis().set_major_locator(mdates.DayLocator(interval=5))\n",
    "ax.get_xaxis().set_minor_locator(mdates.DayLocator(interval=1))\n",
    "\n",
    "fig.autofmt_xdate()\n",
    "plt.legend()\n",
    "plt.title(\"Cumulative cases (all of Germany)\")\n",
    "plt.grid()\n",
    "plt.show()\n"
   ]
  },
  {
   "cell_type": "code",
   "execution_count": 9,
   "metadata": {
    "scrolled": false
   },
   "outputs": [
    {
     "data": {
      "application/vnd.jupyter.widget-view+json": {
       "model_id": "ba9bf94fdf7849c995c3991ab5803a7c",
       "version_major": 2,
       "version_minor": 0
      },
      "text/plain": [
       "Canvas(toolbar=Toolbar(toolitems=[('Home', 'Reset original view', 'home', 'home'), ('Back', 'Back to previous …"
      ]
     },
     "metadata": {},
     "output_type": "display_data"
    }
   ],
   "source": [
    "fig, ax = plt.subplots(figsize=(10,8))\n",
    "\n",
    "plt.bar(per_day.index, per_day.cases, label=\"Cases\")\n",
    "#plt.plot(per_day.index, per_day.cum_deaths, label=\"Deaths\")\n",
    "#plt.plot(per_day.index, per_day.cum_recovered, label=\"Recovered\")\n",
    "ax.get_xaxis().set_major_locator(mdates.DayLocator(interval=5))\n",
    "ax.get_xaxis().set_minor_locator(mdates.DayLocator(interval=1))\n",
    "\n",
    "fig.autofmt_xdate()\n",
    "plt.legend()\n",
    "plt.title(\"Registered cases per day (all of Germany)\")\n",
    "plt.grid()\n",
    "plt.show()"
   ]
  },
  {
   "cell_type": "markdown",
   "metadata": {},
   "source": [
    "## Registerd cases per state"
   ]
  },
  {
   "cell_type": "code",
   "execution_count": 10,
   "metadata": {},
   "outputs": [
    {
     "data": {
      "application/vnd.jupyter.widget-view+json": {
       "model_id": "cfc294413d0c4cc59c8c1f83449b179a",
       "version_major": 2,
       "version_minor": 0
      },
      "text/plain": [
       "Canvas(toolbar=Toolbar(toolitems=[('Home', 'Reset original view', 'home', 'home'), ('Back', 'Back to previous …"
      ]
     },
     "metadata": {},
     "output_type": "display_data"
    }
   ],
   "source": [
    "states = list(rki_cases.drop_duplicates(\"Bundesland\").Bundesland)\n",
    "\n",
    "#datecol = \"Refdatum\"\n",
    "datecol = \"Meldedatum\"\n",
    "\n",
    "def plot_data(state):\n",
    "    df = rki_cases[rki_cases[\"Bundesland\"] == state].copy()\n",
    "\n",
    "    df[datecol] = rki_cases[datecol].dt.floor(\"D\")\n",
    "    df = df.groupby(datecol).sum()\n",
    "    df.sort_values(datecol, inplace=True)\n",
    "    return df\n",
    "\n",
    "fig, ax = plt.subplots(figsize=(10,8))\n",
    "\n",
    "for state in states:\n",
    "    df = plot_data(state)\n",
    "    plt.plot(df.index, df.cases, label=state)\n",
    "\n",
    "# The recovered cases should \"lag behind\" by approx., but it doesn't.\n",
    "# That's because the dataset does not have a date indicating when a patient has recovered.\n",
    "# Instead the original record seems to be updated.\n",
    "# Hence, the I won't plot the recovered cases.\n",
    "#plt.plot(per_day.index, per_day.cum_recovered, label=\"Recovered\")\n",
    "ax.get_xaxis().set_major_locator(mdates.DayLocator(interval=5))\n",
    "ax.get_xaxis().set_minor_locator(mdates.DayLocator(interval=1))\n",
    "\n",
    "fig.autofmt_xdate()\n",
    "plt.legend()\n",
    "plt.title(\"Registered cases\")\n",
    "plt.grid()\n",
    "plt.show()"
   ]
  },
  {
   "cell_type": "markdown",
   "metadata": {},
   "source": [
    "## Grouped by age (all of Germany, entire dataset)"
   ]
  },
  {
   "cell_type": "code",
   "execution_count": 11,
   "metadata": {},
   "outputs": [
    {
     "data": {
      "text/html": [
       "<div>\n",
       "<style scoped>\n",
       "    .dataframe tbody tr th:only-of-type {\n",
       "        vertical-align: middle;\n",
       "    }\n",
       "\n",
       "    .dataframe tbody tr th {\n",
       "        vertical-align: top;\n",
       "    }\n",
       "\n",
       "    .dataframe thead th {\n",
       "        text-align: right;\n",
       "    }\n",
       "</style>\n",
       "<table border=\"1\" class=\"dataframe\">\n",
       "  <thead>\n",
       "    <tr style=\"text-align: right;\">\n",
       "      <th></th>\n",
       "      <th>cases</th>\n",
       "      <th>deaths</th>\n",
       "      <th>recovered</th>\n",
       "      <th>sick</th>\n",
       "      <th>deathrate %</th>\n",
       "    </tr>\n",
       "    <tr>\n",
       "      <th>Altersgruppe</th>\n",
       "      <th></th>\n",
       "      <th></th>\n",
       "      <th></th>\n",
       "      <th></th>\n",
       "      <th></th>\n",
       "    </tr>\n",
       "  </thead>\n",
       "  <tbody>\n",
       "    <tr>\n",
       "      <th>A00-A04</th>\n",
       "      <td>3013</td>\n",
       "      <td>1</td>\n",
       "      <td>2732</td>\n",
       "      <td>280</td>\n",
       "      <td>0.033190</td>\n",
       "    </tr>\n",
       "    <tr>\n",
       "      <th>A05-A14</th>\n",
       "      <td>6608</td>\n",
       "      <td>0</td>\n",
       "      <td>6044</td>\n",
       "      <td>564</td>\n",
       "      <td>0.000000</td>\n",
       "    </tr>\n",
       "    <tr>\n",
       "      <th>A15-A34</th>\n",
       "      <td>54656</td>\n",
       "      <td>18</td>\n",
       "      <td>52413</td>\n",
       "      <td>2225</td>\n",
       "      <td>0.032933</td>\n",
       "    </tr>\n",
       "    <tr>\n",
       "      <th>A35-A59</th>\n",
       "      <td>84829</td>\n",
       "      <td>423</td>\n",
       "      <td>81941</td>\n",
       "      <td>2465</td>\n",
       "      <td>0.498650</td>\n",
       "    </tr>\n",
       "    <tr>\n",
       "      <th>A60-A79</th>\n",
       "      <td>36262</td>\n",
       "      <td>2938</td>\n",
       "      <td>32656</td>\n",
       "      <td>668</td>\n",
       "      <td>8.102145</td>\n",
       "    </tr>\n",
       "    <tr>\n",
       "      <th>A80+</th>\n",
       "      <td>21451</td>\n",
       "      <td>5748</td>\n",
       "      <td>15471</td>\n",
       "      <td>232</td>\n",
       "      <td>26.795954</td>\n",
       "    </tr>\n",
       "    <tr>\n",
       "      <th>unbekannt</th>\n",
       "      <td>107</td>\n",
       "      <td>0</td>\n",
       "      <td>76</td>\n",
       "      <td>31</td>\n",
       "      <td>0.000000</td>\n",
       "    </tr>\n",
       "  </tbody>\n",
       "</table>\n",
       "</div>"
      ],
      "text/plain": [
       "              cases  deaths  recovered  sick  deathrate %\n",
       "Altersgruppe                                             \n",
       "A00-A04        3013       1       2732   280     0.033190\n",
       "A05-A14        6608       0       6044   564     0.000000\n",
       "A15-A34       54656      18      52413  2225     0.032933\n",
       "A35-A59       84829     423      81941  2465     0.498650\n",
       "A60-A79       36262    2938      32656   668     8.102145\n",
       "A80+          21451    5748      15471   232    26.795954\n",
       "unbekannt       107       0         76    31     0.000000"
      ]
     },
     "execution_count": 11,
     "metadata": {},
     "output_type": "execute_result"
    }
   ],
   "source": [
    "by_age = rki_cases.groupby(\"Altersgruppe\").sum()[[\"cases\", \"deaths\", \"recovered\"]]\n",
    "by_age[\"sick\"] = by_age.cases - by_age.deaths - by_age.recovered\n",
    "by_age[\"deathrate %\"] = (by_age.deaths / by_age.cases) * 100\n",
    "by_age"
   ]
  },
  {
   "cell_type": "code",
   "execution_count": 12,
   "metadata": {},
   "outputs": [
    {
     "name": "stdout",
     "output_type": "stream",
     "text": [
      "overall\n",
      "   - cases:     206926\n",
      "   - deaths:    9128\n",
      "   - recovered: 191333\n",
      "   - sick:      6465\n",
      "   - deathrate: 0.04411238800344084\n"
     ]
    }
   ],
   "source": [
    "# Overview over entire data. Sanity check. Should be the same data as on the RKI dashboard\n",
    "overall = by_age[[\"cases\", \"deaths\", \"recovered\", \"sick\"]].sum(axis=\"rows\")\n",
    "print(\"overall\")\n",
    "print(f\"   - cases:     {overall.cases}\")\n",
    "print(f\"   - deaths:    {overall.deaths}\")\n",
    "print(f\"   - recovered: {overall.recovered}\")\n",
    "print(f\"   - sick:      {overall.sick}\")\n",
    "print(f\"   - deathrate: {overall.deaths / overall.cases}\")"
   ]
  },
  {
   "cell_type": "markdown",
   "metadata": {},
   "source": [
    "## Cases per week in a county"
   ]
  },
  {
   "cell_type": "code",
   "execution_count": 13,
   "metadata": {},
   "outputs": [
    {
     "data": {
      "text/html": [
       "<div>\n",
       "<style scoped>\n",
       "    .dataframe tbody tr th:only-of-type {\n",
       "        vertical-align: middle;\n",
       "    }\n",
       "\n",
       "    .dataframe tbody tr th {\n",
       "        vertical-align: top;\n",
       "    }\n",
       "\n",
       "    .dataframe thead th {\n",
       "        text-align: right;\n",
       "    }\n",
       "</style>\n",
       "<table border=\"1\" class=\"dataframe\">\n",
       "  <thead>\n",
       "    <tr style=\"text-align: right;\">\n",
       "      <th></th>\n",
       "      <th>cases</th>\n",
       "      <th>deaths</th>\n",
       "      <th>recovered</th>\n",
       "    </tr>\n",
       "    <tr>\n",
       "      <th>week</th>\n",
       "      <th></th>\n",
       "      <th></th>\n",
       "      <th></th>\n",
       "    </tr>\n",
       "  </thead>\n",
       "  <tbody>\n",
       "    <tr>\n",
       "      <th>5</th>\n",
       "      <td>1</td>\n",
       "      <td>0</td>\n",
       "      <td>1</td>\n",
       "    </tr>\n",
       "    <tr>\n",
       "      <th>6</th>\n",
       "      <td>1</td>\n",
       "      <td>0</td>\n",
       "      <td>1</td>\n",
       "    </tr>\n",
       "    <tr>\n",
       "      <th>7</th>\n",
       "      <td>1</td>\n",
       "      <td>0</td>\n",
       "      <td>1</td>\n",
       "    </tr>\n",
       "    <tr>\n",
       "      <th>9</th>\n",
       "      <td>2</td>\n",
       "      <td>0</td>\n",
       "      <td>2</td>\n",
       "    </tr>\n",
       "    <tr>\n",
       "      <th>10</th>\n",
       "      <td>22</td>\n",
       "      <td>0</td>\n",
       "      <td>22</td>\n",
       "    </tr>\n",
       "    <tr>\n",
       "      <th>11</th>\n",
       "      <td>224</td>\n",
       "      <td>1</td>\n",
       "      <td>223</td>\n",
       "    </tr>\n",
       "    <tr>\n",
       "      <th>12</th>\n",
       "      <td>1055</td>\n",
       "      <td>12</td>\n",
       "      <td>1043</td>\n",
       "    </tr>\n",
       "    <tr>\n",
       "      <th>13</th>\n",
       "      <td>1336</td>\n",
       "      <td>34</td>\n",
       "      <td>1302</td>\n",
       "    </tr>\n",
       "    <tr>\n",
       "      <th>14</th>\n",
       "      <td>1193</td>\n",
       "      <td>54</td>\n",
       "      <td>1139</td>\n",
       "    </tr>\n",
       "    <tr>\n",
       "      <th>15</th>\n",
       "      <td>801</td>\n",
       "      <td>36</td>\n",
       "      <td>765</td>\n",
       "    </tr>\n",
       "    <tr>\n",
       "      <th>16</th>\n",
       "      <td>539</td>\n",
       "      <td>32</td>\n",
       "      <td>507</td>\n",
       "    </tr>\n",
       "    <tr>\n",
       "      <th>17</th>\n",
       "      <td>357</td>\n",
       "      <td>18</td>\n",
       "      <td>339</td>\n",
       "    </tr>\n",
       "    <tr>\n",
       "      <th>18</th>\n",
       "      <td>331</td>\n",
       "      <td>13</td>\n",
       "      <td>318</td>\n",
       "    </tr>\n",
       "    <tr>\n",
       "      <th>19</th>\n",
       "      <td>203</td>\n",
       "      <td>10</td>\n",
       "      <td>193</td>\n",
       "    </tr>\n",
       "    <tr>\n",
       "      <th>20</th>\n",
       "      <td>184</td>\n",
       "      <td>2</td>\n",
       "      <td>182</td>\n",
       "    </tr>\n",
       "    <tr>\n",
       "      <th>21</th>\n",
       "      <td>87</td>\n",
       "      <td>3</td>\n",
       "      <td>84</td>\n",
       "    </tr>\n",
       "    <tr>\n",
       "      <th>22</th>\n",
       "      <td>152</td>\n",
       "      <td>2</td>\n",
       "      <td>150</td>\n",
       "    </tr>\n",
       "    <tr>\n",
       "      <th>23</th>\n",
       "      <td>54</td>\n",
       "      <td>1</td>\n",
       "      <td>53</td>\n",
       "    </tr>\n",
       "    <tr>\n",
       "      <th>24</th>\n",
       "      <td>59</td>\n",
       "      <td>1</td>\n",
       "      <td>58</td>\n",
       "    </tr>\n",
       "    <tr>\n",
       "      <th>25</th>\n",
       "      <td>77</td>\n",
       "      <td>0</td>\n",
       "      <td>77</td>\n",
       "    </tr>\n",
       "    <tr>\n",
       "      <th>26</th>\n",
       "      <td>90</td>\n",
       "      <td>2</td>\n",
       "      <td>88</td>\n",
       "    </tr>\n",
       "    <tr>\n",
       "      <th>27</th>\n",
       "      <td>130</td>\n",
       "      <td>1</td>\n",
       "      <td>111</td>\n",
       "    </tr>\n",
       "    <tr>\n",
       "      <th>28</th>\n",
       "      <td>114</td>\n",
       "      <td>0</td>\n",
       "      <td>82</td>\n",
       "    </tr>\n",
       "    <tr>\n",
       "      <th>29</th>\n",
       "      <td>118</td>\n",
       "      <td>0</td>\n",
       "      <td>35</td>\n",
       "    </tr>\n",
       "    <tr>\n",
       "      <th>30</th>\n",
       "      <td>91</td>\n",
       "      <td>0</td>\n",
       "      <td>9</td>\n",
       "    </tr>\n",
       "    <tr>\n",
       "      <th>31</th>\n",
       "      <td>20</td>\n",
       "      <td>0</td>\n",
       "      <td>0</td>\n",
       "    </tr>\n",
       "  </tbody>\n",
       "</table>\n",
       "</div>"
      ],
      "text/plain": [
       "      cases  deaths  recovered\n",
       "week                          \n",
       "5         1       0          1\n",
       "6         1       0          1\n",
       "7         1       0          1\n",
       "9         2       0          2\n",
       "10       22       0         22\n",
       "11      224       1        223\n",
       "12     1055      12       1043\n",
       "13     1336      34       1302\n",
       "14     1193      54       1139\n",
       "15      801      36        765\n",
       "16      539      32        507\n",
       "17      357      18        339\n",
       "18      331      13        318\n",
       "19      203      10        193\n",
       "20      184       2        182\n",
       "21       87       3         84\n",
       "22      152       2        150\n",
       "23       54       1         53\n",
       "24       59       1         58\n",
       "25       77       0         77\n",
       "26       90       2         88\n",
       "27      130       1        111\n",
       "28      114       0         82\n",
       "29      118       0         35\n",
       "30       91       0          9\n",
       "31       20       0          0"
      ]
     },
     "execution_count": 13,
     "metadata": {},
     "output_type": "execute_result"
    }
   ],
   "source": [
    "county = \"SK München\"\n",
    "county_data = rki_cases[rki_cases.Landkreis == county].copy()\n",
    "county_data[\"week\"] = county_data[\"Meldedatum\"].apply(lambda d: d.isocalendar()[1])\n",
    "county_data.groupby(\"week\").sum()[[\"cases\", \"deaths\", \"recovered\"]]"
   ]
  }
 ],
 "metadata": {
  "kernelspec": {
   "display_name": "Python 3",
   "language": "python",
   "name": "python3"
  },
  "language_info": {
   "codemirror_mode": {
    "name": "ipython",
    "version": 3
   },
   "file_extension": ".py",
   "mimetype": "text/x-python",
   "name": "python",
   "nbconvert_exporter": "python",
   "pygments_lexer": "ipython3",
   "version": "3.8.5"
  }
 },
 "nbformat": 4,
 "nbformat_minor": 4
}
