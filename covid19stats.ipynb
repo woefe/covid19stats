{
 "cells": [
  {
   "cell_type": "markdown",
   "metadata": {
    "pycharm": {
     "name": "#%% md\n"
    }
   },
   "source": [
    "# COVID 19 Stats -- Data by Robert Koch Institut, processed by [NPGEO](https://npgeo-corona-npgeo-de.hub.arcgis.com/datasets/dd4580c810204019a7b8eb3e0b329dd6_0)\n",
    "\n",
    "## Boilerplate"
   ]
  },
  {
   "cell_type": "code",
   "execution_count": 1,
   "metadata": {},
   "outputs": [],
   "source": [
    "import pandas as pd\n",
    "import qgrid"
   ]
  },
  {
   "cell_type": "markdown",
   "metadata": {
    "pycharm": {
     "name": "#%% md\n"
    }
   },
   "source": [
    "## Load main data source\n",
    "\n",
    "Data License: Robert Koch-Institut (RKI), [dl-de/by-2-0](https://www.govdata.de/dl-de/by-2-0).\n",
    "Provided by [NPGEO](https://npgeo-corona-npgeo-de.hub.arcgis.com/datasets/dd4580c810204019a7b8eb3e0b329dd6_0)."
   ]
  },
  {
   "cell_type": "code",
   "execution_count": 2,
   "metadata": {
    "pycharm": {
     "name": "#%%\n"
    }
   },
   "outputs": [],
   "source": [
    "rki_cases = pd.read_csv(\"data/RKI_COVID19.csv\")"
   ]
  },
  {
   "cell_type": "markdown",
   "metadata": {
    "pycharm": {
     "name": "#%% md\n"
    }
   },
   "source": [
    "## Load county data\n",
    "Used to get number of residents and size in km² of every county.\n",
    "Dataset is taken from [NPGEO](https://npgeo-corona-npgeo-de.hub.arcgis.com/datasets/917fc37a709542548cc3be077a786c17_0)"
   ]
  },
  {
   "cell_type": "code",
   "execution_count": 3,
   "metadata": {
    "pycharm": {
     "name": "#%%\n"
    }
   },
   "outputs": [],
   "source": [
    "rki_lkr = pd.read_csv(\"data/RKI_Corona_Landkreise.csv\")"
   ]
  },
  {
   "cell_type": "markdown",
   "metadata": {
    "pycharm": {
     "name": "#%% md\n"
    }
   },
   "source": [
    "## Load state data\n",
    "The destatis dataset is used to get number of residents and size in km² of every german state.\n",
    "Dataset is extracted from [destatis](https://www.destatis.de/DE/Themen/Laender-Regionen/Regionales/Gemeindeverzeichnis/Administrativ/02-bundeslaender.xlsx?__blob=publicationFile)."
   ]
  },
  {
   "cell_type": "code",
   "execution_count": 4,
   "metadata": {
    "pycharm": {
     "name": "#%%\n"
    }
   },
   "outputs": [],
   "source": [
    "destatis = pd.read_csv(\"data/destatis_bundeslaender.csv\")"
   ]
  },
  {
   "cell_type": "markdown",
   "metadata": {
    "pycharm": {
     "name": "#%% md\n"
    }
   },
   "source": [
    "## Overview States"
   ]
  },
  {
   "cell_type": "code",
   "execution_count": 5,
   "metadata": {
    "pycharm": {
     "name": "#%%\n"
    }
   },
   "outputs": [
    {
     "data": {
      "application/vnd.jupyter.widget-view+json": {
       "model_id": "26468ffed0dc4b51afe318641d9019d3",
       "version_major": 2,
       "version_minor": 0
      },
      "text/plain": [
       "QgridWidget(grid_options={'fullWidthRows': True, 'syncColumnCellResize': True, 'forceFitColumns': True, 'defau…"
      ]
     },
     "metadata": {},
     "output_type": "display_data"
    }
   ],
   "source": [
    "cases = rki_cases.groupby(\"Bundesland\")[[\"AnzahlFall\",\"AnzahlTodesfall\",\"AnzahlGenesen\"]].sum()\n",
    "states = pd.merge(cases, destatis[[\"Bundesland\", \"Flaeche\", \"Einwohner\"]], on=\"Bundesland\")\n",
    "states[\"Fälle/km²\"] = states[\"AnzahlFall\"]/states[\"Flaeche\"]\n",
    "states[\"Fälle/Einwohner\"] = states[\"AnzahlFall\"]/states[\"Einwohner\"]\n",
    "states[\"Tote/km²\"] = states[\"AnzahlTodesfall\"]/states[\"Flaeche\"]\n",
    "states[\"Tote/Einwohner\"] = states[\"AnzahlTodesfall\"]/states[\"Einwohner\"]\n",
    "states.drop([\"Flaeche\", \"Einwohner\"], axis=\"columns\", inplace=True)\n",
    "qgrid.show_grid(states, show_toolbar=True)"
   ]
  },
  {
   "cell_type": "markdown",
   "metadata": {
    "pycharm": {
     "name": "#%% md\n"
    }
   },
   "source": [
    "## Overview Counties"
   ]
  },
  {
   "cell_type": "code",
   "execution_count": 6,
   "metadata": {
    "pycharm": {
     "name": "#%%\n"
    }
   },
   "outputs": [
    {
     "data": {
      "application/vnd.jupyter.widget-view+json": {
       "model_id": "d278e29bde45400582a4aeb897f4b426",
       "version_major": 2,
       "version_minor": 0
      },
      "text/plain": [
       "QgridWidget(grid_options={'fullWidthRows': True, 'syncColumnCellResize': True, 'forceFitColumns': True, 'defau…"
      ]
     },
     "metadata": {},
     "output_type": "display_data"
    }
   ],
   "source": [
    "lkr = rki_lkr[[\"county\", \"EWZ\", \"KFL\"]]\n",
    "cum_lkr = rki_cases.groupby(\"Landkreis\")[[\"AnzahlFall\",\"AnzahlTodesfall\",\"AnzahlGenesen\"]].sum()\n",
    "counties = pd.merge(lkr, cum_lkr, right_on=\"Landkreis\", left_on=\"county\")\n",
    "counties[\"Fälle/km²\"] = counties[\"AnzahlFall\"]/counties[\"KFL\"]\n",
    "counties[\"Fälle/Einwohner\"] = counties[\"AnzahlFall\"]/counties[\"EWZ\"]\n",
    "counties[\"Tote/km²\"] = counties[\"AnzahlTodesfall\"]/counties[\"KFL\"]\n",
    "counties[\"Tote/Einwohner\"] = counties[\"AnzahlTodesfall\"]/counties[\"EWZ\"]\n",
    "counties.drop([\"EWZ\", \"KFL\"], axis=\"columns\", inplace=True)\n",
    "qgrid.show_grid(counties, show_toolbar=True)"
   ]
  }
 ],
 "metadata": {
  "kernelspec": {
   "display_name": "Python 3",
   "language": "python",
   "name": "python3"
  },
  "language_info": {
   "codemirror_mode": {
    "name": "ipython",
    "version": 3
   },
   "file_extension": ".py",
   "mimetype": "text/x-python",
   "name": "python",
   "nbconvert_exporter": "python",
   "pygments_lexer": "ipython3",
   "version": "3.8.2"
  }
 },
 "nbformat": 4,
 "nbformat_minor": 4
}
