{
 "cells": [
  {
   "cell_type": "markdown",
   "metadata": {
    "pycharm": {
     "name": "#%% md\n"
    },
    "tags": [
     "remove_cell"
    ]
   },
   "source": [
    "# RKI COVID-19 Stats \n",
    "\n",
    "Data provided by Robert Koch Institut (RKI) and processed by [NPGEO](https://npgeo-corona-npgeo-de.hub.arcgis.com/datasets/dd4580c810204019a7b8eb3e0b329dd6_0).\n",
    "Data License: Robert Koch-Institut (RKI), [dl-de/by-2-0](https://www.govdata.de/dl-de/by-2-0).\n",
    "\n",
    "Source code to generate this website is available on [GitHub](https://github.com/woefe/covid19stats)."
   ]
  },
  {
   "cell_type": "code",
   "execution_count": null,
   "metadata": {
    "tags": [
     "remove_cell"
    ]
   },
   "outputs": [],
   "source": [
    "import datetime\n",
    "from pathlib import Path\n",
    "\n",
    "import pandas as pd\n",
    "import numpy as np\n",
    "\n",
    "import matplotlib.pyplot as plt\n",
    "import matplotlib.dates as mdates\n",
    "\n",
    "from IPython.display import set_matplotlib_formats\n",
    "%matplotlib inline\n",
    "set_matplotlib_formats('svg')\n",
    "\n",
    "figsize=(20,13)\n",
    "pd.options.display.max_rows = 1000\n",
    "SILO_DIR = Path(\"./autodata/covid19stats-autodata/data/silo\")\n",
    "\n",
    "def prepare(col: str, refcol: str, df: pd.DataFrame) -> pd.Series:\n",
    "    \"\"\"Generate a series that can be use with the standar sum() function\n",
    "    \n",
    "    The documentation of the dataset specifies that \"AnzahlFall\" and other\n",
    "    columns should not be simply summed up.\n",
    "    \"\"\"\n",
    "    # Uses numpy's vectorize() for massive performance improvements.\n",
    "    # Does the same thing as:\n",
    "    # return pd.Series((row[col] if row[refcol] in [0,1] else 0) for _, row in df.iterrows())\n",
    "    \n",
    "    def preparation(col, refcol):\n",
    "        return col if refcol == 0 or refcol == 1 else 0\n",
    "    prep = np.vectorize(preparation)\n",
    "    return pd.Series(prep(df[col].to_numpy(), df[refcol].to_numpy()))\n",
    "    \n",
    "def get_cases(date: datetime.date, url_prefix) -> pd.DataFrame:\n",
    "    date_str = date.isoformat()\n",
    "    rki_cases = pd.read_csv(f\"{url_prefix}/{date_str}.csv\")\n",
    "    rki_cases[\"Datenstand\"] = pd.to_datetime(rki_cases[\"Datenstand\"], format=\"%d.%m.%Y, %H:%M Uhr\")\n",
    "    rki_cases[\"Meldedatum\"] = pd.to_datetime(rki_cases[\"Meldedatum\"], format=\"%Y/%m/%d %H:%M:%S\")\n",
    "    rki_cases[\"Refdatum\"] = pd.to_datetime(rki_cases[\"Refdatum\"], format=\"%Y/%m/%d %H:%M:%S\")\n",
    "    rki_cases[\"cases\"] = prepare(\"AnzahlFall\", \"NeuerFall\", rki_cases)\n",
    "    rki_cases[\"deaths\"] = prepare(\"AnzahlTodesfall\", \"NeuerTodesfall\", rki_cases)\n",
    "    rki_cases[\"recovered\"] = prepare(\"AnzahlGenesen\", \"NeuGenesen\", rki_cases)\n",
    "    return rki_cases\n",
    "\n",
    "# Main data source\n",
    "rki_cases = get_cases(datetime.date.today(), url_prefix=str(SILO_DIR))\n",
    "\n",
    "# Per district data\n",
    "rki_lkr = pd.read_csv(\"data/RKI_Corona_Landkreise.csv\")"
   ]
  },
  {
   "cell_type": "markdown",
   "metadata": {},
   "source": [
    "Last update:"
   ]
  },
  {
   "cell_type": "code",
   "execution_count": null,
   "metadata": {},
   "outputs": [],
   "source": [
    "print(datetime.datetime.now().strftime(\"%c\"))"
   ]
  },
  {
   "cell_type": "markdown",
   "metadata": {},
   "source": [
    "## Overview"
   ]
  },
  {
   "cell_type": "code",
   "execution_count": null,
   "metadata": {
    "tags": [
     "remove_input"
    ]
   },
   "outputs": [],
   "source": [
    "# Overview over entire data. Sanity check. Should be the same data as on the RKI dashboard\n",
    "overall = rki_cases[[\"cases\", \"deaths\", \"recovered\"]].sum(axis=\"rows\")\n",
    "print(f\"          Overall cases: {overall.cases}\")\n",
    "print(f\"         Overall deaths: {overall.deaths}\")\n",
    "print(f\"Overall recovered cases: {overall.recovered}\")\n",
    "print(f\" Currently active cases: {overall.cases - overall.deaths - overall.recovered}\")\n",
    "print(f\"      Overall deathrate: {round(overall.deaths / overall.cases * 100, 3)}%\")"
   ]
  },
  {
   "cell_type": "markdown",
   "metadata": {},
   "source": [
    "## Cases and deathrate by age (all of Germany, since January 2020)"
   ]
  },
  {
   "cell_type": "code",
   "execution_count": null,
   "metadata": {
    "scrolled": true,
    "tags": [
     "remove_input"
    ]
   },
   "outputs": [],
   "source": [
    "by_age = rki_cases.groupby(\"Altersgruppe\").sum()[[\"cases\", \"deaths\", \"recovered\"]]\n",
    "by_age[\"sick\"] = by_age.cases - by_age.deaths - by_age.recovered\n",
    "by_age[\"deathrate %\"] = (by_age.deaths / by_age.cases) * 100\n",
    "by_age"
   ]
  },
  {
   "cell_type": "markdown",
   "metadata": {},
   "source": [
    "## Cumulative cases since January 2020\n"
   ]
  },
  {
   "cell_type": "code",
   "execution_count": null,
   "metadata": {
    "pycharm": {
     "name": "#%%\n"
    }
   },
   "outputs": [],
   "source": [
    "#datecol = \"Refdatum\"\n",
    "datecol = \"Meldedatum\"\n",
    "\n",
    "#per_day = rki_cases[rki_cases[\"Bundesland\"] == \"Bayern\"].copy()\n",
    "per_day = rki_cases.copy()\n",
    "\n",
    "per_day[datecol] = rki_cases[datecol].dt.floor(\"D\")\n",
    "per_day = per_day.groupby(datecol).sum()[[\"cases\", \"deaths\", \"recovered\"]]\n",
    "per_day.sort_values(datecol, inplace=True)\n",
    "per_day[\"cum_cases\"] = per_day[\"cases\"].cumsum()\n",
    "per_day[\"cum_deaths\"] = per_day[\"deaths\"].cumsum()\n",
    "per_day[\"cum_recovered\"] = per_day[\"recovered\"].cumsum()"
   ]
  },
  {
   "cell_type": "code",
   "execution_count": null,
   "metadata": {
    "pycharm": {
     "name": "#%%\n"
    },
    "tags": [
     "remove_input"
    ]
   },
   "outputs": [],
   "source": [
    "fig, ax = plt.subplots(figsize=figsize)\n",
    "import matplotlib.dates as mdates\n",
    "\n",
    "plt.plot(per_day.index, per_day.cum_cases, label=\"Cases\")\n",
    "plt.plot(per_day.index, per_day.cum_deaths, label=\"Deaths\")\n",
    "\n",
    "# The recovered cases should \"lag behind\" by approx., but it doesn't.\n",
    "# That's because the dataset does not have a date indicating when a patient has recovered.\n",
    "# Instead the original record seems to be updated.\n",
    "# Hence, the I won't plot the recovered cases.\n",
    "#plt.plot(per_day.index, per_day.cum_recovered, label=\"Recovered\")\n",
    "ax.get_xaxis().set_major_locator(mdates.DayLocator(interval=5))\n",
    "ax.get_xaxis().set_minor_locator(mdates.DayLocator(interval=1))\n",
    "\n",
    "fig.autofmt_xdate()\n",
    "plt.legend()\n",
    "plt.title(\"Cumulative cases (all of Germany)\")\n",
    "plt.grid()\n",
    "plt.show()\n"
   ]
  },
  {
   "cell_type": "markdown",
   "metadata": {},
   "source": [
    "## Daily registered cases per state"
   ]
  },
  {
   "cell_type": "code",
   "execution_count": null,
   "metadata": {
    "tags": [
     "remove_cell"
    ]
   },
   "outputs": [],
   "source": [
    "states = list(rki_cases.drop_duplicates(\"Bundesland\").Bundesland)\n",
    "\n",
    "colors = [\"black\", \"gray\", \"lightgray\", \"red\", \"lightcoral\", \"goldenrod\", \"yellow\", \"olive\", \"chartreuse\", \"forestgreen\", \"aqua\", \"powderblue\", \"royalblue\", \"darkviolet\", \"violet\", \"fuchsia\"]\n",
    "\n",
    "#datecol = \"Refdatum\"\n",
    "datecol = \"Meldedatum\"\n",
    "\n",
    "def plot_data(state):\n",
    "    df = rki_cases[rki_cases[\"Bundesland\"] == state].copy()\n",
    "\n",
    "    df[datecol] = rki_cases[datecol].dt.floor(\"D\")\n",
    "    df = df.groupby(datecol).sum()\n",
    "    df.sort_values(datecol, inplace=True)\n",
    "    return df\n",
    "\n",
    "\n",
    "by_state = pd.DataFrame(index=rki_cases.groupby(datecol).first().index)\n",
    "for state in states:\n",
    "    by_state[state] = plot_data(state).cases\n",
    "by_state = by_state.fillna(0) "
   ]
  },
  {
   "cell_type": "code",
   "execution_count": null,
   "metadata": {
    "tags": [
     "remove_input"
    ]
   },
   "outputs": [],
   "source": [
    "fig, ax = plt.subplots(figsize=figsize)\n",
    "\n",
    "below = None\n",
    "for state, color in zip(states, colors):\n",
    "    df = by_state[state]\n",
    "    if below is None:\n",
    "        plt.bar(by_state.index, df, label=state, color=color)\n",
    "        below = df\n",
    "    else:\n",
    "        plt.bar(by_state.index, df, label=state, color=color, bottom=below)\n",
    "        below = below.add(df, fill_value=0)\n",
    "        \n",
    "\n",
    "ax.get_xaxis().set_major_locator(mdates.DayLocator(interval=5))\n",
    "ax.get_xaxis().set_minor_locator(mdates.DayLocator(interval=1))\n",
    "\n",
    "fig.autofmt_xdate()\n",
    "\n",
    "plt.legend()\n",
    "plt.title(\"Registered cases stacked\")\n",
    "plt.grid()\n",
    "plt.show()"
   ]
  },
  {
   "cell_type": "markdown",
   "metadata": {},
   "source": [
    "## Estimated active cases over time"
   ]
  },
  {
   "cell_type": "code",
   "execution_count": null,
   "metadata": {
    "tags": [
     "remove_cell"
    ]
   },
   "outputs": [],
   "source": [
    "import calendar\n",
    "import os\n",
    "import logging\n",
    "from multiprocessing import Pool\n",
    "from typing import Tuple\n",
    "\n",
    "def get_active_cases(date: datetime.date) -> Tuple[datetime.date,int]:\n",
    "    date_str = date.isoformat()\n",
    "    try:\n",
    "        data_file = SILO_DIR / f\"{date_str}.csv\"\n",
    "        rki_cases = pd.read_csv(data_file)\n",
    "    except:\n",
    "        #logging.warning(\"Ignoring file %s\", data_file)\n",
    "        return date, -1\n",
    "    cases = prepare(\"AnzahlFall\", \"NeuerFall\", rki_cases).sum()\n",
    "    deaths = prepare(\"AnzahlTodesfall\", \"NeuerTodesfall\", rki_cases).sum()\n",
    "    recovered = prepare(\"AnzahlGenesen\", \"NeuGenesen\", rki_cases).sum()\n",
    "    return date, cases - deaths - recovered\n",
    "\n",
    "cal = calendar.Calendar()\n",
    "dates = (\n",
    "    date \n",
    "    for month in range(4,11)\n",
    "    for date in cal.itermonthdates(2020, month)\n",
    "    if date <= datetime.date.today()\n",
    ")\n",
    "\n",
    "with Pool(len(os.sched_getaffinity(0))) as pool:\n",
    "    cases_per_day = pool.map(get_active_cases, dates)"
   ]
  },
  {
   "cell_type": "code",
   "execution_count": null,
   "metadata": {
    "scrolled": true,
    "tags": [
     "remove_input"
    ]
   },
   "outputs": [],
   "source": [
    "active_daily = pd.DataFrame(cases_per_day, columns=[\"date\", \"active_cases\"]).sort_values(\"date\")\n",
    "fig, ax = plt.subplots(figsize=figsize)\n",
    "\n",
    "plt.plot(active_daily.date, active_daily.active_cases, label=\"Estimated active cases\")\n",
    "\n",
    "ax.get_xaxis().set_major_locator(mdates.DayLocator(interval=5))\n",
    "ax.get_xaxis().set_minor_locator(mdates.DayLocator(interval=1))\n",
    "\n",
    "fig.autofmt_xdate()\n",
    "plt.legend()\n",
    "plt.title(\"Estimated active cases every day (all of Germany)\")\n",
    "plt.grid()\n",
    "plt.show()"
   ]
  },
  {
   "cell_type": "markdown",
   "metadata": {
    "pycharm": {
     "name": "#%% md\n"
    }
   },
   "source": [
    "## Last seven days broken down by district"
   ]
  },
  {
   "cell_type": "code",
   "execution_count": null,
   "metadata": {
    "pycharm": {
     "name": "#%%\n"
    },
    "tags": [
     "remove_input"
    ]
   },
   "outputs": [],
   "source": [
    "start_at = pd.to_datetime(datetime.date.today() - datetime.timedelta(days=7))\n",
    "lkr = rki_lkr[[\"county\", \"EWZ\", \"KFL\"]]\n",
    "sum_lkr = rki_cases[rki_cases.Meldedatum >= start_at].groupby(\"Landkreis\").sum()[[\"cases\", \"deaths\", \"recovered\"]]\n",
    "counties = pd.merge(lkr, sum_lkr, right_on=\"Landkreis\", left_on=\"county\")\n",
    "counties[\"cases/100000 inhabitants\"] = (counties[\"cases\"]/counties[\"EWZ\"])*100000\n",
    "counties[\"cases/km²\"] = counties[\"cases\"]/counties[\"KFL\"]\n",
    "counties[\"cases/inhabitants\"] = counties[\"cases\"]/counties[\"EWZ\"]\n",
    "counties[\"deaths/km²\"] = counties[\"deaths\"]/counties[\"KFL\"]\n",
    "counties[\"deaths/inhabitants\"] = counties[\"deaths\"]/counties[\"EWZ\"]\n",
    "counties[\"inhabitants\"] = counties[\"EWZ\"]\n",
    "counties.drop([\"EWZ\", \"KFL\"], axis=\"columns\", inplace=True)\n",
    "counties.sort_values(by=\"cases/100000 inhabitants\", ascending=False)\n",
    "\n",
    "## Cases, recovered, deaths (all of Germany)"
   ]
  }
 ],
 "metadata": {
  "kernelspec": {
   "display_name": "Python 3",
   "language": "python",
   "name": "python3"
  },
  "language_info": {
   "codemirror_mode": {
    "name": "ipython",
    "version": 3
   },
   "file_extension": ".py",
   "mimetype": "text/x-python",
   "name": "python",
   "nbconvert_exporter": "python",
   "pygments_lexer": "ipython3",
   "version": "3.8.6"
  },
  "title": "RKI COVID-19 Stats"
 },
 "nbformat": 4,
 "nbformat_minor": 4
}
